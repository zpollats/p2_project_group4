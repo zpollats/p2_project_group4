{
 "cells": [
  {
   "cell_type": "code",
   "execution_count": 1,
   "metadata": {},
   "outputs": [],
   "source": [
    "import numpy as np\n",
    "import pandas as pd \n",
    "from numbers import Number\n",
    "from scipy import stats\n",
    "import matplotlib.pyplot as plt\n",
    "import seaborn as sns\n",
    "import statsmodels.api as sm\n",
    "from sklearn.preprocessing import StandardScaler\n",
    "from sklearn.preprocessing import PolynomialFeatures\n",
    "from sklearn.linear_model import LinearRegression\n",
    "from sklearn.preprocessing import OneHotEncoder\n",
    "from sklearn.preprocessing import OrdinalEncoder\n",
    "%matplotlib inline"
   ]
  },
  {
   "cell_type": "code",
   "execution_count": 2,
   "metadata": {},
   "outputs": [],
   "source": [
    "# load in data set\n",
    "df = pd.read_csv('./data/kc_house_data.csv')"
   ]
  },
  {
   "cell_type": "code",
   "execution_count": 3,
   "metadata": {},
   "outputs": [
    {
     "data": {
      "text/html": [
       "<div>\n",
       "<style scoped>\n",
       "    .dataframe tbody tr th:only-of-type {\n",
       "        vertical-align: middle;\n",
       "    }\n",
       "\n",
       "    .dataframe tbody tr th {\n",
       "        vertical-align: top;\n",
       "    }\n",
       "\n",
       "    .dataframe thead th {\n",
       "        text-align: right;\n",
       "    }\n",
       "</style>\n",
       "<table border=\"1\" class=\"dataframe\">\n",
       "  <thead>\n",
       "    <tr style=\"text-align: right;\">\n",
       "      <th></th>\n",
       "      <th>id</th>\n",
       "      <th>date</th>\n",
       "      <th>price</th>\n",
       "      <th>bedrooms</th>\n",
       "      <th>bathrooms</th>\n",
       "      <th>sqft_living</th>\n",
       "      <th>sqft_lot</th>\n",
       "      <th>floors</th>\n",
       "      <th>waterfront</th>\n",
       "      <th>view</th>\n",
       "      <th>...</th>\n",
       "      <th>grade</th>\n",
       "      <th>sqft_above</th>\n",
       "      <th>sqft_basement</th>\n",
       "      <th>yr_built</th>\n",
       "      <th>yr_renovated</th>\n",
       "      <th>zipcode</th>\n",
       "      <th>lat</th>\n",
       "      <th>long</th>\n",
       "      <th>sqft_living15</th>\n",
       "      <th>sqft_lot15</th>\n",
       "    </tr>\n",
       "  </thead>\n",
       "  <tbody>\n",
       "    <tr>\n",
       "      <th>0</th>\n",
       "      <td>7129300520</td>\n",
       "      <td>10/13/2014</td>\n",
       "      <td>221900.0</td>\n",
       "      <td>3</td>\n",
       "      <td>1.00</td>\n",
       "      <td>1180</td>\n",
       "      <td>5650</td>\n",
       "      <td>1.0</td>\n",
       "      <td>NaN</td>\n",
       "      <td>NONE</td>\n",
       "      <td>...</td>\n",
       "      <td>7 Average</td>\n",
       "      <td>1180</td>\n",
       "      <td>0.0</td>\n",
       "      <td>1955</td>\n",
       "      <td>0.0</td>\n",
       "      <td>98178</td>\n",
       "      <td>47.5112</td>\n",
       "      <td>-122.257</td>\n",
       "      <td>1340</td>\n",
       "      <td>5650</td>\n",
       "    </tr>\n",
       "    <tr>\n",
       "      <th>1</th>\n",
       "      <td>6414100192</td>\n",
       "      <td>12/9/2014</td>\n",
       "      <td>538000.0</td>\n",
       "      <td>3</td>\n",
       "      <td>2.25</td>\n",
       "      <td>2570</td>\n",
       "      <td>7242</td>\n",
       "      <td>2.0</td>\n",
       "      <td>NO</td>\n",
       "      <td>NONE</td>\n",
       "      <td>...</td>\n",
       "      <td>7 Average</td>\n",
       "      <td>2170</td>\n",
       "      <td>400.0</td>\n",
       "      <td>1951</td>\n",
       "      <td>1991.0</td>\n",
       "      <td>98125</td>\n",
       "      <td>47.7210</td>\n",
       "      <td>-122.319</td>\n",
       "      <td>1690</td>\n",
       "      <td>7639</td>\n",
       "    </tr>\n",
       "    <tr>\n",
       "      <th>2</th>\n",
       "      <td>5631500400</td>\n",
       "      <td>2/25/2015</td>\n",
       "      <td>180000.0</td>\n",
       "      <td>2</td>\n",
       "      <td>1.00</td>\n",
       "      <td>770</td>\n",
       "      <td>10000</td>\n",
       "      <td>1.0</td>\n",
       "      <td>NO</td>\n",
       "      <td>NONE</td>\n",
       "      <td>...</td>\n",
       "      <td>6 Low Average</td>\n",
       "      <td>770</td>\n",
       "      <td>0.0</td>\n",
       "      <td>1933</td>\n",
       "      <td>NaN</td>\n",
       "      <td>98028</td>\n",
       "      <td>47.7379</td>\n",
       "      <td>-122.233</td>\n",
       "      <td>2720</td>\n",
       "      <td>8062</td>\n",
       "    </tr>\n",
       "    <tr>\n",
       "      <th>3</th>\n",
       "      <td>2487200875</td>\n",
       "      <td>12/9/2014</td>\n",
       "      <td>604000.0</td>\n",
       "      <td>4</td>\n",
       "      <td>3.00</td>\n",
       "      <td>1960</td>\n",
       "      <td>5000</td>\n",
       "      <td>1.0</td>\n",
       "      <td>NO</td>\n",
       "      <td>NONE</td>\n",
       "      <td>...</td>\n",
       "      <td>7 Average</td>\n",
       "      <td>1050</td>\n",
       "      <td>910.0</td>\n",
       "      <td>1965</td>\n",
       "      <td>0.0</td>\n",
       "      <td>98136</td>\n",
       "      <td>47.5208</td>\n",
       "      <td>-122.393</td>\n",
       "      <td>1360</td>\n",
       "      <td>5000</td>\n",
       "    </tr>\n",
       "    <tr>\n",
       "      <th>4</th>\n",
       "      <td>1954400510</td>\n",
       "      <td>2/18/2015</td>\n",
       "      <td>510000.0</td>\n",
       "      <td>3</td>\n",
       "      <td>2.00</td>\n",
       "      <td>1680</td>\n",
       "      <td>8080</td>\n",
       "      <td>1.0</td>\n",
       "      <td>NO</td>\n",
       "      <td>NONE</td>\n",
       "      <td>...</td>\n",
       "      <td>8 Good</td>\n",
       "      <td>1680</td>\n",
       "      <td>0.0</td>\n",
       "      <td>1987</td>\n",
       "      <td>0.0</td>\n",
       "      <td>98074</td>\n",
       "      <td>47.6168</td>\n",
       "      <td>-122.045</td>\n",
       "      <td>1800</td>\n",
       "      <td>7503</td>\n",
       "    </tr>\n",
       "  </tbody>\n",
       "</table>\n",
       "<p>5 rows × 21 columns</p>\n",
       "</div>"
      ],
      "text/plain": [
       "           id        date     price  bedrooms  bathrooms  sqft_living  \\\n",
       "0  7129300520  10/13/2014  221900.0         3       1.00         1180   \n",
       "1  6414100192   12/9/2014  538000.0         3       2.25         2570   \n",
       "2  5631500400   2/25/2015  180000.0         2       1.00          770   \n",
       "3  2487200875   12/9/2014  604000.0         4       3.00         1960   \n",
       "4  1954400510   2/18/2015  510000.0         3       2.00         1680   \n",
       "\n",
       "   sqft_lot  floors waterfront  view  ...          grade sqft_above  \\\n",
       "0      5650     1.0        NaN  NONE  ...      7 Average       1180   \n",
       "1      7242     2.0         NO  NONE  ...      7 Average       2170   \n",
       "2     10000     1.0         NO  NONE  ...  6 Low Average        770   \n",
       "3      5000     1.0         NO  NONE  ...      7 Average       1050   \n",
       "4      8080     1.0         NO  NONE  ...         8 Good       1680   \n",
       "\n",
       "   sqft_basement yr_built  yr_renovated  zipcode      lat     long  \\\n",
       "0            0.0     1955           0.0    98178  47.5112 -122.257   \n",
       "1          400.0     1951        1991.0    98125  47.7210 -122.319   \n",
       "2            0.0     1933           NaN    98028  47.7379 -122.233   \n",
       "3          910.0     1965           0.0    98136  47.5208 -122.393   \n",
       "4            0.0     1987           0.0    98074  47.6168 -122.045   \n",
       "\n",
       "   sqft_living15  sqft_lot15  \n",
       "0           1340        5650  \n",
       "1           1690        7639  \n",
       "2           2720        8062  \n",
       "3           1360        5000  \n",
       "4           1800        7503  \n",
       "\n",
       "[5 rows x 21 columns]"
      ]
     },
     "execution_count": 3,
     "metadata": {},
     "output_type": "execute_result"
    }
   ],
   "source": [
    "# initially inspect the data\n",
    "df.head()"
   ]
  },
  {
   "cell_type": "code",
   "execution_count": 4,
   "metadata": {},
   "outputs": [
    {
     "name": "stdout",
     "output_type": "stream",
     "text": [
      "<class 'pandas.core.frame.DataFrame'>\n",
      "RangeIndex: 21597 entries, 0 to 21596\n",
      "Data columns (total 21 columns):\n",
      " #   Column         Non-Null Count  Dtype  \n",
      "---  ------         --------------  -----  \n",
      " 0   id             21597 non-null  int64  \n",
      " 1   date           21597 non-null  object \n",
      " 2   price          21597 non-null  float64\n",
      " 3   bedrooms       21597 non-null  int64  \n",
      " 4   bathrooms      21597 non-null  float64\n",
      " 5   sqft_living    21597 non-null  int64  \n",
      " 6   sqft_lot       21597 non-null  int64  \n",
      " 7   floors         21597 non-null  float64\n",
      " 8   waterfront     19221 non-null  object \n",
      " 9   view           21534 non-null  object \n",
      " 10  condition      21597 non-null  object \n",
      " 11  grade          21597 non-null  object \n",
      " 12  sqft_above     21597 non-null  int64  \n",
      " 13  sqft_basement  21597 non-null  object \n",
      " 14  yr_built       21597 non-null  int64  \n",
      " 15  yr_renovated   17755 non-null  float64\n",
      " 16  zipcode        21597 non-null  int64  \n",
      " 17  lat            21597 non-null  float64\n",
      " 18  long           21597 non-null  float64\n",
      " 19  sqft_living15  21597 non-null  int64  \n",
      " 20  sqft_lot15     21597 non-null  int64  \n",
      "dtypes: float64(6), int64(9), object(6)\n",
      "memory usage: 3.5+ MB\n"
     ]
    }
   ],
   "source": [
    "# determine where nulls are in our data\n",
    "df.info()"
   ]
  },
  {
   "cell_type": "markdown",
   "metadata": {},
   "source": [
    "It appears that we only have two columns that contain null values: waterfront and yr_renovated."
   ]
  },
  {
   "cell_type": "code",
   "execution_count": 5,
   "metadata": {
    "scrolled": true
   },
   "outputs": [
    {
     "data": {
      "text/plain": [
       "NO     19075\n",
       "YES      146\n",
       "Name: waterfront, dtype: int64"
      ]
     },
     "execution_count": 5,
     "metadata": {},
     "output_type": "execute_result"
    }
   ],
   "source": [
    "df.waterfront.value_counts()"
   ]
  },
  {
   "cell_type": "code",
   "execution_count": 6,
   "metadata": {},
   "outputs": [],
   "source": [
    "df.dropna(subset=['waterfront', 'view'], inplace=True)"
   ]
  },
  {
   "cell_type": "code",
   "execution_count": 7,
   "metadata": {},
   "outputs": [
    {
     "name": "stdout",
     "output_type": "stream",
     "text": [
      "<class 'pandas.core.frame.DataFrame'>\n",
      "Int64Index: 19164 entries, 1 to 21596\n",
      "Data columns (total 21 columns):\n",
      " #   Column         Non-Null Count  Dtype  \n",
      "---  ------         --------------  -----  \n",
      " 0   id             19164 non-null  int64  \n",
      " 1   date           19164 non-null  object \n",
      " 2   price          19164 non-null  float64\n",
      " 3   bedrooms       19164 non-null  int64  \n",
      " 4   bathrooms      19164 non-null  float64\n",
      " 5   sqft_living    19164 non-null  int64  \n",
      " 6   sqft_lot       19164 non-null  int64  \n",
      " 7   floors         19164 non-null  float64\n",
      " 8   waterfront     19164 non-null  object \n",
      " 9   view           19164 non-null  object \n",
      " 10  condition      19164 non-null  object \n",
      " 11  grade          19164 non-null  object \n",
      " 12  sqft_above     19164 non-null  int64  \n",
      " 13  sqft_basement  19164 non-null  object \n",
      " 14  yr_built       19164 non-null  int64  \n",
      " 15  yr_renovated   15762 non-null  float64\n",
      " 16  zipcode        19164 non-null  int64  \n",
      " 17  lat            19164 non-null  float64\n",
      " 18  long           19164 non-null  float64\n",
      " 19  sqft_living15  19164 non-null  int64  \n",
      " 20  sqft_lot15     19164 non-null  int64  \n",
      "dtypes: float64(6), int64(9), object(6)\n",
      "memory usage: 3.2+ MB\n"
     ]
    }
   ],
   "source": [
    "df.info()"
   ]
  },
  {
   "cell_type": "code",
   "execution_count": 8,
   "metadata": {},
   "outputs": [
    {
     "data": {
      "text/plain": [
       "0.0       15111\n",
       "2014.0       64\n",
       "2013.0       29\n",
       "2005.0       27\n",
       "2000.0       25\n",
       "          ...  \n",
       "1953.0        1\n",
       "1950.0        1\n",
       "1954.0        1\n",
       "1959.0        1\n",
       "1971.0        1\n",
       "Name: yr_renovated, Length: 70, dtype: int64"
      ]
     },
     "execution_count": 8,
     "metadata": {},
     "output_type": "execute_result"
    }
   ],
   "source": [
    "df.yr_renovated.value_counts()"
   ]
  },
  {
   "cell_type": "markdown",
   "metadata": {},
   "source": [
    "Based on the above value counts, we will drop the yr_renovated column."
   ]
  },
  {
   "cell_type": "code",
   "execution_count": 9,
   "metadata": {},
   "outputs": [],
   "source": [
    "df.drop(columns='yr_renovated', axis=1, inplace=True)"
   ]
  },
  {
   "cell_type": "code",
   "execution_count": 10,
   "metadata": {},
   "outputs": [
    {
     "name": "stdout",
     "output_type": "stream",
     "text": [
      "<class 'pandas.core.frame.DataFrame'>\n",
      "Int64Index: 19164 entries, 1 to 21596\n",
      "Data columns (total 20 columns):\n",
      " #   Column         Non-Null Count  Dtype  \n",
      "---  ------         --------------  -----  \n",
      " 0   id             19164 non-null  int64  \n",
      " 1   date           19164 non-null  object \n",
      " 2   price          19164 non-null  float64\n",
      " 3   bedrooms       19164 non-null  int64  \n",
      " 4   bathrooms      19164 non-null  float64\n",
      " 5   sqft_living    19164 non-null  int64  \n",
      " 6   sqft_lot       19164 non-null  int64  \n",
      " 7   floors         19164 non-null  float64\n",
      " 8   waterfront     19164 non-null  object \n",
      " 9   view           19164 non-null  object \n",
      " 10  condition      19164 non-null  object \n",
      " 11  grade          19164 non-null  object \n",
      " 12  sqft_above     19164 non-null  int64  \n",
      " 13  sqft_basement  19164 non-null  object \n",
      " 14  yr_built       19164 non-null  int64  \n",
      " 15  zipcode        19164 non-null  int64  \n",
      " 16  lat            19164 non-null  float64\n",
      " 17  long           19164 non-null  float64\n",
      " 18  sqft_living15  19164 non-null  int64  \n",
      " 19  sqft_lot15     19164 non-null  int64  \n",
      "dtypes: float64(5), int64(9), object(6)\n",
      "memory usage: 3.1+ MB\n"
     ]
    }
   ],
   "source": [
    "df.info()"
   ]
  },
  {
   "cell_type": "code",
   "execution_count": 11,
   "metadata": {},
   "outputs": [
    {
     "data": {
      "text/plain": [
       "98103    539\n",
       "98038    525\n",
       "98115    513\n",
       "98052    506\n",
       "98117    495\n",
       "        ... \n",
       "98102     89\n",
       "98010     87\n",
       "98024     72\n",
       "98148     51\n",
       "98039     45\n",
       "Name: zipcode, Length: 70, dtype: int64"
      ]
     },
     "execution_count": 11,
     "metadata": {},
     "output_type": "execute_result"
    }
   ],
   "source": [
    "df.zipcode.value_counts()"
   ]
  },
  {
   "cell_type": "code",
   "execution_count": 12,
   "metadata": {},
   "outputs": [],
   "source": [
    "df_seattle = df[(df['zipcode'] >= 98101) & (df['zipcode'] <= 98199)]"
   ]
  },
  {
   "cell_type": "code",
   "execution_count": 13,
   "metadata": {},
   "outputs": [
    {
     "data": {
      "text/html": [
       "<div>\n",
       "<style scoped>\n",
       "    .dataframe tbody tr th:only-of-type {\n",
       "        vertical-align: middle;\n",
       "    }\n",
       "\n",
       "    .dataframe tbody tr th {\n",
       "        vertical-align: top;\n",
       "    }\n",
       "\n",
       "    .dataframe thead th {\n",
       "        text-align: right;\n",
       "    }\n",
       "</style>\n",
       "<table border=\"1\" class=\"dataframe\">\n",
       "  <thead>\n",
       "    <tr style=\"text-align: right;\">\n",
       "      <th></th>\n",
       "      <th>id</th>\n",
       "      <th>date</th>\n",
       "      <th>price</th>\n",
       "      <th>bedrooms</th>\n",
       "      <th>bathrooms</th>\n",
       "      <th>sqft_living</th>\n",
       "      <th>sqft_lot</th>\n",
       "      <th>floors</th>\n",
       "      <th>waterfront</th>\n",
       "      <th>view</th>\n",
       "      <th>condition</th>\n",
       "      <th>grade</th>\n",
       "      <th>sqft_above</th>\n",
       "      <th>sqft_basement</th>\n",
       "      <th>yr_built</th>\n",
       "      <th>zipcode</th>\n",
       "      <th>lat</th>\n",
       "      <th>long</th>\n",
       "      <th>sqft_living15</th>\n",
       "      <th>sqft_lot15</th>\n",
       "    </tr>\n",
       "  </thead>\n",
       "  <tbody>\n",
       "    <tr>\n",
       "      <th>1</th>\n",
       "      <td>6414100192</td>\n",
       "      <td>12/9/2014</td>\n",
       "      <td>538000.0</td>\n",
       "      <td>3</td>\n",
       "      <td>2.25</td>\n",
       "      <td>2570</td>\n",
       "      <td>7242</td>\n",
       "      <td>2.0</td>\n",
       "      <td>NO</td>\n",
       "      <td>NONE</td>\n",
       "      <td>Average</td>\n",
       "      <td>7 Average</td>\n",
       "      <td>2170</td>\n",
       "      <td>400.0</td>\n",
       "      <td>1951</td>\n",
       "      <td>98125</td>\n",
       "      <td>47.7210</td>\n",
       "      <td>-122.319</td>\n",
       "      <td>1690</td>\n",
       "      <td>7639</td>\n",
       "    </tr>\n",
       "    <tr>\n",
       "      <th>3</th>\n",
       "      <td>2487200875</td>\n",
       "      <td>12/9/2014</td>\n",
       "      <td>604000.0</td>\n",
       "      <td>4</td>\n",
       "      <td>3.00</td>\n",
       "      <td>1960</td>\n",
       "      <td>5000</td>\n",
       "      <td>1.0</td>\n",
       "      <td>NO</td>\n",
       "      <td>NONE</td>\n",
       "      <td>Very Good</td>\n",
       "      <td>7 Average</td>\n",
       "      <td>1050</td>\n",
       "      <td>910.0</td>\n",
       "      <td>1965</td>\n",
       "      <td>98136</td>\n",
       "      <td>47.5208</td>\n",
       "      <td>-122.393</td>\n",
       "      <td>1360</td>\n",
       "      <td>5000</td>\n",
       "    </tr>\n",
       "    <tr>\n",
       "      <th>8</th>\n",
       "      <td>2414600126</td>\n",
       "      <td>4/15/2015</td>\n",
       "      <td>229500.0</td>\n",
       "      <td>3</td>\n",
       "      <td>1.00</td>\n",
       "      <td>1780</td>\n",
       "      <td>7470</td>\n",
       "      <td>1.0</td>\n",
       "      <td>NO</td>\n",
       "      <td>NONE</td>\n",
       "      <td>Average</td>\n",
       "      <td>7 Average</td>\n",
       "      <td>1050</td>\n",
       "      <td>730.0</td>\n",
       "      <td>1960</td>\n",
       "      <td>98146</td>\n",
       "      <td>47.5123</td>\n",
       "      <td>-122.337</td>\n",
       "      <td>1780</td>\n",
       "      <td>8113</td>\n",
       "    </tr>\n",
       "    <tr>\n",
       "      <th>11</th>\n",
       "      <td>9212900260</td>\n",
       "      <td>5/27/2014</td>\n",
       "      <td>468000.0</td>\n",
       "      <td>2</td>\n",
       "      <td>1.00</td>\n",
       "      <td>1160</td>\n",
       "      <td>6000</td>\n",
       "      <td>1.0</td>\n",
       "      <td>NO</td>\n",
       "      <td>NONE</td>\n",
       "      <td>Good</td>\n",
       "      <td>7 Average</td>\n",
       "      <td>860</td>\n",
       "      <td>300.0</td>\n",
       "      <td>1942</td>\n",
       "      <td>98115</td>\n",
       "      <td>47.6900</td>\n",
       "      <td>-122.292</td>\n",
       "      <td>1330</td>\n",
       "      <td>6000</td>\n",
       "    </tr>\n",
       "    <tr>\n",
       "      <th>14</th>\n",
       "      <td>1175000570</td>\n",
       "      <td>3/12/2015</td>\n",
       "      <td>530000.0</td>\n",
       "      <td>5</td>\n",
       "      <td>2.00</td>\n",
       "      <td>1810</td>\n",
       "      <td>4850</td>\n",
       "      <td>1.5</td>\n",
       "      <td>NO</td>\n",
       "      <td>NONE</td>\n",
       "      <td>Average</td>\n",
       "      <td>7 Average</td>\n",
       "      <td>1810</td>\n",
       "      <td>0.0</td>\n",
       "      <td>1900</td>\n",
       "      <td>98107</td>\n",
       "      <td>47.6700</td>\n",
       "      <td>-122.394</td>\n",
       "      <td>1360</td>\n",
       "      <td>4850</td>\n",
       "    </tr>\n",
       "  </tbody>\n",
       "</table>\n",
       "</div>"
      ],
      "text/plain": [
       "            id       date     price  bedrooms  bathrooms  sqft_living  \\\n",
       "1   6414100192  12/9/2014  538000.0         3       2.25         2570   \n",
       "3   2487200875  12/9/2014  604000.0         4       3.00         1960   \n",
       "8   2414600126  4/15/2015  229500.0         3       1.00         1780   \n",
       "11  9212900260  5/27/2014  468000.0         2       1.00         1160   \n",
       "14  1175000570  3/12/2015  530000.0         5       2.00         1810   \n",
       "\n",
       "    sqft_lot  floors waterfront  view  condition      grade  sqft_above  \\\n",
       "1       7242     2.0         NO  NONE    Average  7 Average        2170   \n",
       "3       5000     1.0         NO  NONE  Very Good  7 Average        1050   \n",
       "8       7470     1.0         NO  NONE    Average  7 Average        1050   \n",
       "11      6000     1.0         NO  NONE       Good  7 Average         860   \n",
       "14      4850     1.5         NO  NONE    Average  7 Average        1810   \n",
       "\n",
       "   sqft_basement  yr_built  zipcode      lat     long  sqft_living15  \\\n",
       "1          400.0      1951    98125  47.7210 -122.319           1690   \n",
       "3          910.0      1965    98136  47.5208 -122.393           1360   \n",
       "8          730.0      1960    98146  47.5123 -122.337           1780   \n",
       "11         300.0      1942    98115  47.6900 -122.292           1330   \n",
       "14           0.0      1900    98107  47.6700 -122.394           1360   \n",
       "\n",
       "    sqft_lot15  \n",
       "1         7639  \n",
       "3         5000  \n",
       "8         8113  \n",
       "11        6000  \n",
       "14        4850  "
      ]
     },
     "execution_count": 13,
     "metadata": {},
     "output_type": "execute_result"
    }
   ],
   "source": [
    "df_seattle.head()"
   ]
  },
  {
   "cell_type": "code",
   "execution_count": 14,
   "metadata": {},
   "outputs": [
    {
     "name": "stdout",
     "output_type": "stream",
     "text": [
      "<class 'pandas.core.frame.DataFrame'>\n",
      "Int64Index: 7949 entries, 1 to 21596\n",
      "Data columns (total 20 columns):\n",
      " #   Column         Non-Null Count  Dtype  \n",
      "---  ------         --------------  -----  \n",
      " 0   id             7949 non-null   int64  \n",
      " 1   date           7949 non-null   object \n",
      " 2   price          7949 non-null   float64\n",
      " 3   bedrooms       7949 non-null   int64  \n",
      " 4   bathrooms      7949 non-null   float64\n",
      " 5   sqft_living    7949 non-null   int64  \n",
      " 6   sqft_lot       7949 non-null   int64  \n",
      " 7   floors         7949 non-null   float64\n",
      " 8   waterfront     7949 non-null   object \n",
      " 9   view           7949 non-null   object \n",
      " 10  condition      7949 non-null   object \n",
      " 11  grade          7949 non-null   object \n",
      " 12  sqft_above     7949 non-null   int64  \n",
      " 13  sqft_basement  7949 non-null   object \n",
      " 14  yr_built       7949 non-null   int64  \n",
      " 15  zipcode        7949 non-null   int64  \n",
      " 16  lat            7949 non-null   float64\n",
      " 17  long           7949 non-null   float64\n",
      " 18  sqft_living15  7949 non-null   int64  \n",
      " 19  sqft_lot15     7949 non-null   int64  \n",
      "dtypes: float64(5), int64(9), object(6)\n",
      "memory usage: 1.3+ MB\n"
     ]
    }
   ],
   "source": [
    "df_seattle.info()"
   ]
  },
  {
   "cell_type": "code",
   "execution_count": 15,
   "metadata": {},
   "outputs": [
    {
     "data": {
      "text/plain": [
       "<AxesSubplot:>"
      ]
     },
     "execution_count": 15,
     "metadata": {},
     "output_type": "execute_result"
    },
    {
     "data": {
      "image/png": "[encoded data removed]",
      "text/plain": [
       "<Figure size 720x720 with 2 Axes>"
      ]
     },
     "metadata": {},
     "output_type": "display_data"
    }
   ],
   "source": [
    "sns.set(rc={'figure.figsize':(10, 10)})\n",
    "sns.heatmap(abs(df_seattle.corr()), annot=True)"
   ]
  },
  {
   "cell_type": "markdown",
   "metadata": {},
   "source": [
    "# Create First Simple Model"
   ]
  },
  {
   "cell_type": "code",
   "execution_count": 16,
   "metadata": {},
   "outputs": [],
   "source": [
    "# create test train split for data\n",
    "from sklearn.model_selection import train_test_split"
   ]
  },
  {
   "cell_type": "code",
   "execution_count": 17,
   "metadata": {},
   "outputs": [],
   "source": [
    "X = df_seattle.drop(columns='price', axis=1)\n",
    "y = df_seattle['price']"
   ]
  },
  {
   "cell_type": "code",
   "execution_count": 18,
   "metadata": {},
   "outputs": [],
   "source": [
    "X_train, X_test, y_train, y_test = train_test_split(X, y, test_size=0.25, random_state=8)"
   ]
  },
  {
   "cell_type": "code",
   "execution_count": 19,
   "metadata": {
    "scrolled": true
   },
   "outputs": [
    {
     "name": "stdout",
     "output_type": "stream",
     "text": [
      "(5961, 19) (1988, 19)\n"
     ]
    }
   ],
   "source": [
    "print(X_train.shape, X_test.shape)"
   ]
  },
  {
   "cell_type": "code",
   "execution_count": 20,
   "metadata": {},
   "outputs": [
    {
     "data": {
      "text/plain": [
       "0.47687019655645224"
      ]
     },
     "execution_count": 20,
     "metadata": {},
     "output_type": "execute_result"
    }
   ],
   "source": [
    "slr = LinearRegression()\n",
    "slr_fit = slr.fit(np.array(X_train['sqft_living']).reshape(-1, 1), np.array(y_train).reshape(-1,1))\n",
    "slr_fit.score(np.array(X_test['sqft_living']).reshape(-1,1), np.array(y_test).reshape(-1,1))"
   ]
  },
  {
   "cell_type": "markdown",
   "metadata": {},
   "source": [
    "# Feature Engineering"
   ]
  },
  {
   "cell_type": "code",
   "execution_count": 21,
   "metadata": {},
   "outputs": [
    {
     "data": {
      "text/plain": [
       "[array(['Average', 'Fair', 'Good', 'Poor', 'Very Good'], dtype=object)]"
      ]
     },
     "execution_count": 21,
     "metadata": {},
     "output_type": "execute_result"
    }
   ],
   "source": [
    "# (1) Create a variable condition_qu_train\n",
    "# extracted from X_train\n",
    "# (double brackets due to shape expected by OHE)\n",
    "condition_X_train = X_train[[\"condition\"]]\n",
    "\n",
    "# (2) Instantiate a OneHotEncoder with categories=\"auto\",\n",
    "# sparse=False, and handle_unknown=\"ignore\"\n",
    "ohe = OneHotEncoder(categories=\"auto\",\n",
    " sparse=False, handle_unknown=\"ignore\")\n",
    "\n",
    "# (3) Fit the encoder on fireplace_qu_train\n",
    "ohe.fit(condition_X_train)\n",
    "\n",
    "# Inspect the categories of the fitted encoder\n",
    "ohe.categories_"
   ]
  },
  {
   "cell_type": "code",
   "execution_count": 22,
   "metadata": {},
   "outputs": [],
   "source": [
    "trans_condition_X_train = ohe.transform(condition_X_train)"
   ]
  },
  {
   "cell_type": "code",
   "execution_count": 23,
   "metadata": {},
   "outputs": [
    {
     "data": {
      "text/html": [
       "<div>\n",
       "<style scoped>\n",
       "    .dataframe tbody tr th:only-of-type {\n",
       "        vertical-align: middle;\n",
       "    }\n",
       "\n",
       "    .dataframe tbody tr th {\n",
       "        vertical-align: top;\n",
       "    }\n",
       "\n",
       "    .dataframe thead th {\n",
       "        text-align: right;\n",
       "    }\n",
       "</style>\n",
       "<table border=\"1\" class=\"dataframe\">\n",
       "  <thead>\n",
       "    <tr style=\"text-align: right;\">\n",
       "      <th></th>\n",
       "      <th>Cond_Average</th>\n",
       "      <th>Cond_Fair</th>\n",
       "      <th>Cond_Good</th>\n",
       "      <th>Cond_Poor</th>\n",
       "      <th>Cond_Very Good</th>\n",
       "    </tr>\n",
       "  </thead>\n",
       "  <tbody>\n",
       "    <tr>\n",
       "      <th>17430</th>\n",
       "      <td>1.0</td>\n",
       "      <td>0.0</td>\n",
       "      <td>0.0</td>\n",
       "      <td>0.0</td>\n",
       "      <td>0.0</td>\n",
       "    </tr>\n",
       "    <tr>\n",
       "      <th>2722</th>\n",
       "      <td>1.0</td>\n",
       "      <td>0.0</td>\n",
       "      <td>0.0</td>\n",
       "      <td>0.0</td>\n",
       "      <td>0.0</td>\n",
       "    </tr>\n",
       "    <tr>\n",
       "      <th>9563</th>\n",
       "      <td>1.0</td>\n",
       "      <td>0.0</td>\n",
       "      <td>0.0</td>\n",
       "      <td>0.0</td>\n",
       "      <td>0.0</td>\n",
       "    </tr>\n",
       "    <tr>\n",
       "      <th>625</th>\n",
       "      <td>0.0</td>\n",
       "      <td>0.0</td>\n",
       "      <td>1.0</td>\n",
       "      <td>0.0</td>\n",
       "      <td>0.0</td>\n",
       "    </tr>\n",
       "    <tr>\n",
       "      <th>2097</th>\n",
       "      <td>1.0</td>\n",
       "      <td>0.0</td>\n",
       "      <td>0.0</td>\n",
       "      <td>0.0</td>\n",
       "      <td>0.0</td>\n",
       "    </tr>\n",
       "    <tr>\n",
       "      <th>...</th>\n",
       "      <td>...</td>\n",
       "      <td>...</td>\n",
       "      <td>...</td>\n",
       "      <td>...</td>\n",
       "      <td>...</td>\n",
       "    </tr>\n",
       "    <tr>\n",
       "      <th>5961</th>\n",
       "      <td>0.0</td>\n",
       "      <td>0.0</td>\n",
       "      <td>1.0</td>\n",
       "      <td>0.0</td>\n",
       "      <td>0.0</td>\n",
       "    </tr>\n",
       "    <tr>\n",
       "      <th>6606</th>\n",
       "      <td>1.0</td>\n",
       "      <td>0.0</td>\n",
       "      <td>0.0</td>\n",
       "      <td>0.0</td>\n",
       "      <td>0.0</td>\n",
       "    </tr>\n",
       "    <tr>\n",
       "      <th>5519</th>\n",
       "      <td>0.0</td>\n",
       "      <td>0.0</td>\n",
       "      <td>1.0</td>\n",
       "      <td>0.0</td>\n",
       "      <td>0.0</td>\n",
       "    </tr>\n",
       "    <tr>\n",
       "      <th>3731</th>\n",
       "      <td>0.0</td>\n",
       "      <td>0.0</td>\n",
       "      <td>0.0</td>\n",
       "      <td>0.0</td>\n",
       "      <td>1.0</td>\n",
       "    </tr>\n",
       "    <tr>\n",
       "      <th>12433</th>\n",
       "      <td>0.0</td>\n",
       "      <td>0.0</td>\n",
       "      <td>0.0</td>\n",
       "      <td>0.0</td>\n",
       "      <td>1.0</td>\n",
       "    </tr>\n",
       "  </tbody>\n",
       "</table>\n",
       "<p>5961 rows × 5 columns</p>\n",
       "</div>"
      ],
      "text/plain": [
       "       Cond_Average  Cond_Fair  Cond_Good  Cond_Poor  Cond_Very Good\n",
       "17430           1.0        0.0        0.0        0.0             0.0\n",
       "2722            1.0        0.0        0.0        0.0             0.0\n",
       "9563            1.0        0.0        0.0        0.0             0.0\n",
       "625             0.0        0.0        1.0        0.0             0.0\n",
       "2097            1.0        0.0        0.0        0.0             0.0\n",
       "...             ...        ...        ...        ...             ...\n",
       "5961            0.0        0.0        1.0        0.0             0.0\n",
       "6606            1.0        0.0        0.0        0.0             0.0\n",
       "5519            0.0        0.0        1.0        0.0             0.0\n",
       "3731            0.0        0.0        0.0        0.0             1.0\n",
       "12433           0.0        0.0        0.0        0.0             1.0\n",
       "\n",
       "[5961 rows x 5 columns]"
      ]
     },
     "execution_count": 23,
     "metadata": {},
     "output_type": "execute_result"
    }
   ],
   "source": [
    "# (5a) Make the transformed data into a dataframe\n",
    "encoded_X_train = pd.DataFrame(\n",
    "    # Pass in NumPy array\n",
    "    trans_condition_X_train,\n",
    "    # Set the column names to the categories found by OHE\n",
    "    columns='Cond_' + ohe.categories_[0],\n",
    "    # Set the index to match X_train's index\n",
    "    index=X_train.index\n",
    ")\n",
    "\n",
    "# Visually inspect new dataframe\n",
    "encoded_X_train"
   ]
  },
  {
   "cell_type": "code",
   "execution_count": 24,
   "metadata": {},
   "outputs": [
    {
     "data": {
      "text/html": [
       "<div>\n",
       "<style scoped>\n",
       "    .dataframe tbody tr th:only-of-type {\n",
       "        vertical-align: middle;\n",
       "    }\n",
       "\n",
       "    .dataframe tbody tr th {\n",
       "        vertical-align: top;\n",
       "    }\n",
       "\n",
       "    .dataframe thead th {\n",
       "        text-align: right;\n",
       "    }\n",
       "</style>\n",
       "<table border=\"1\" class=\"dataframe\">\n",
       "  <thead>\n",
       "    <tr style=\"text-align: right;\">\n",
       "      <th></th>\n",
       "      <th>id</th>\n",
       "      <th>date</th>\n",
       "      <th>bedrooms</th>\n",
       "      <th>bathrooms</th>\n",
       "      <th>sqft_living</th>\n",
       "      <th>sqft_lot</th>\n",
       "      <th>floors</th>\n",
       "      <th>waterfront</th>\n",
       "      <th>view</th>\n",
       "      <th>grade</th>\n",
       "      <th>...</th>\n",
       "      <th>zipcode</th>\n",
       "      <th>lat</th>\n",
       "      <th>long</th>\n",
       "      <th>sqft_living15</th>\n",
       "      <th>sqft_lot15</th>\n",
       "      <th>Cond_Average</th>\n",
       "      <th>Cond_Fair</th>\n",
       "      <th>Cond_Good</th>\n",
       "      <th>Cond_Poor</th>\n",
       "      <th>Cond_Very Good</th>\n",
       "    </tr>\n",
       "  </thead>\n",
       "  <tbody>\n",
       "    <tr>\n",
       "      <th>17430</th>\n",
       "      <td>1959703070</td>\n",
       "      <td>10/29/2014</td>\n",
       "      <td>5</td>\n",
       "      <td>3.0</td>\n",
       "      <td>3730</td>\n",
       "      <td>5500</td>\n",
       "      <td>1.5</td>\n",
       "      <td>NO</td>\n",
       "      <td>NONE</td>\n",
       "      <td>7 Average</td>\n",
       "      <td>...</td>\n",
       "      <td>98102</td>\n",
       "      <td>47.6507</td>\n",
       "      <td>-122.320</td>\n",
       "      <td>1890</td>\n",
       "      <td>5500</td>\n",
       "      <td>1.0</td>\n",
       "      <td>0.0</td>\n",
       "      <td>0.0</td>\n",
       "      <td>0.0</td>\n",
       "      <td>0.0</td>\n",
       "    </tr>\n",
       "    <tr>\n",
       "      <th>2722</th>\n",
       "      <td>2770601741</td>\n",
       "      <td>11/6/2014</td>\n",
       "      <td>3</td>\n",
       "      <td>3.0</td>\n",
       "      <td>1490</td>\n",
       "      <td>2944</td>\n",
       "      <td>2.0</td>\n",
       "      <td>NO</td>\n",
       "      <td>NONE</td>\n",
       "      <td>7 Average</td>\n",
       "      <td>...</td>\n",
       "      <td>98199</td>\n",
       "      <td>47.6506</td>\n",
       "      <td>-122.384</td>\n",
       "      <td>1590</td>\n",
       "      <td>1600</td>\n",
       "      <td>1.0</td>\n",
       "      <td>0.0</td>\n",
       "      <td>0.0</td>\n",
       "      <td>0.0</td>\n",
       "      <td>0.0</td>\n",
       "    </tr>\n",
       "    <tr>\n",
       "      <th>9563</th>\n",
       "      <td>5589300205</td>\n",
       "      <td>8/5/2014</td>\n",
       "      <td>5</td>\n",
       "      <td>1.0</td>\n",
       "      <td>1680</td>\n",
       "      <td>9383</td>\n",
       "      <td>1.0</td>\n",
       "      <td>NO</td>\n",
       "      <td>NONE</td>\n",
       "      <td>7 Average</td>\n",
       "      <td>...</td>\n",
       "      <td>98155</td>\n",
       "      <td>47.7523</td>\n",
       "      <td>-122.311</td>\n",
       "      <td>1680</td>\n",
       "      <td>9458</td>\n",
       "      <td>1.0</td>\n",
       "      <td>0.0</td>\n",
       "      <td>0.0</td>\n",
       "      <td>0.0</td>\n",
       "      <td>0.0</td>\n",
       "    </tr>\n",
       "    <tr>\n",
       "      <th>625</th>\n",
       "      <td>7812800565</td>\n",
       "      <td>8/14/2014</td>\n",
       "      <td>3</td>\n",
       "      <td>1.0</td>\n",
       "      <td>960</td>\n",
       "      <td>6400</td>\n",
       "      <td>1.0</td>\n",
       "      <td>NO</td>\n",
       "      <td>NONE</td>\n",
       "      <td>6 Low Average</td>\n",
       "      <td>...</td>\n",
       "      <td>98178</td>\n",
       "      <td>47.4960</td>\n",
       "      <td>-122.239</td>\n",
       "      <td>1200</td>\n",
       "      <td>6600</td>\n",
       "      <td>0.0</td>\n",
       "      <td>0.0</td>\n",
       "      <td>1.0</td>\n",
       "      <td>0.0</td>\n",
       "      <td>0.0</td>\n",
       "    </tr>\n",
       "    <tr>\n",
       "      <th>2097</th>\n",
       "      <td>6414100111</td>\n",
       "      <td>11/5/2014</td>\n",
       "      <td>2</td>\n",
       "      <td>1.0</td>\n",
       "      <td>990</td>\n",
       "      <td>9223</td>\n",
       "      <td>1.0</td>\n",
       "      <td>NO</td>\n",
       "      <td>NONE</td>\n",
       "      <td>7 Average</td>\n",
       "      <td>...</td>\n",
       "      <td>98125</td>\n",
       "      <td>47.7200</td>\n",
       "      <td>-122.320</td>\n",
       "      <td>1230</td>\n",
       "      <td>7244</td>\n",
       "      <td>1.0</td>\n",
       "      <td>0.0</td>\n",
       "      <td>0.0</td>\n",
       "      <td>0.0</td>\n",
       "      <td>0.0</td>\n",
       "    </tr>\n",
       "  </tbody>\n",
       "</table>\n",
       "<p>5 rows × 23 columns</p>\n",
       "</div>"
      ],
      "text/plain": [
       "               id        date  bedrooms  bathrooms  sqft_living  sqft_lot  \\\n",
       "17430  1959703070  10/29/2014         5        3.0         3730      5500   \n",
       "2722   2770601741   11/6/2014         3        3.0         1490      2944   \n",
       "9563   5589300205    8/5/2014         5        1.0         1680      9383   \n",
       "625    7812800565   8/14/2014         3        1.0          960      6400   \n",
       "2097   6414100111   11/5/2014         2        1.0          990      9223   \n",
       "\n",
       "       floors waterfront  view          grade  ...  zipcode      lat     long  \\\n",
       "17430     1.5         NO  NONE      7 Average  ...    98102  47.6507 -122.320   \n",
       "2722      2.0         NO  NONE      7 Average  ...    98199  47.6506 -122.384   \n",
       "9563      1.0         NO  NONE      7 Average  ...    98155  47.7523 -122.311   \n",
       "625       1.0         NO  NONE  6 Low Average  ...    98178  47.4960 -122.239   \n",
       "2097      1.0         NO  NONE      7 Average  ...    98125  47.7200 -122.320   \n",
       "\n",
       "       sqft_living15  sqft_lot15  Cond_Average  Cond_Fair  Cond_Good  \\\n",
       "17430           1890        5500           1.0        0.0        0.0   \n",
       "2722            1590        1600           1.0        0.0        0.0   \n",
       "9563            1680        9458           1.0        0.0        0.0   \n",
       "625             1200        6600           0.0        0.0        1.0   \n",
       "2097            1230        7244           1.0        0.0        0.0   \n",
       "\n",
       "       Cond_Poor  Cond_Very Good  \n",
       "17430        0.0             0.0  \n",
       "2722         0.0             0.0  \n",
       "9563         0.0             0.0  \n",
       "625          0.0             0.0  \n",
       "2097         0.0             0.0  \n",
       "\n",
       "[5 rows x 23 columns]"
      ]
     },
     "execution_count": 24,
     "metadata": {},
     "output_type": "execute_result"
    }
   ],
   "source": [
    "# add our encoded condition columns to our df_seattle dataframe\n",
    "df_seattle1 = pd.concat([X_train, encoded_X_train], axis=1)\n",
    "df_seattle1.drop(columns='condition', axis=1, inplace=True)\n",
    "df_seattle1.head()"
   ]
  },
  {
   "cell_type": "code",
   "execution_count": 25,
   "metadata": {},
   "outputs": [
    {
     "data": {
      "text/plain": [
       "NONE         5201\n",
       "AVERAGE       334\n",
       "GOOD          175\n",
       "FAIR          128\n",
       "EXCELLENT     123\n",
       "Name: view, dtype: int64"
      ]
     },
     "execution_count": 25,
     "metadata": {},
     "output_type": "execute_result"
    }
   ],
   "source": [
    "df_seattle1.view.value_counts()"
   ]
  },
  {
   "cell_type": "code",
   "execution_count": 26,
   "metadata": {},
   "outputs": [
    {
     "data": {
      "text/html": [
       "<div>\n",
       "<style scoped>\n",
       "    .dataframe tbody tr th:only-of-type {\n",
       "        vertical-align: middle;\n",
       "    }\n",
       "\n",
       "    .dataframe tbody tr th {\n",
       "        vertical-align: top;\n",
       "    }\n",
       "\n",
       "    .dataframe thead th {\n",
       "        text-align: right;\n",
       "    }\n",
       "</style>\n",
       "<table border=\"1\" class=\"dataframe\">\n",
       "  <thead>\n",
       "    <tr style=\"text-align: right;\">\n",
       "      <th></th>\n",
       "      <th>View_AVERAGE</th>\n",
       "      <th>View_EXCELLENT</th>\n",
       "      <th>View_FAIR</th>\n",
       "      <th>View_GOOD</th>\n",
       "      <th>View_NONE</th>\n",
       "    </tr>\n",
       "  </thead>\n",
       "  <tbody>\n",
       "    <tr>\n",
       "      <th>17430</th>\n",
       "      <td>0.0</td>\n",
       "      <td>0.0</td>\n",
       "      <td>0.0</td>\n",
       "      <td>0.0</td>\n",
       "      <td>1.0</td>\n",
       "    </tr>\n",
       "    <tr>\n",
       "      <th>2722</th>\n",
       "      <td>0.0</td>\n",
       "      <td>0.0</td>\n",
       "      <td>0.0</td>\n",
       "      <td>0.0</td>\n",
       "      <td>1.0</td>\n",
       "    </tr>\n",
       "    <tr>\n",
       "      <th>9563</th>\n",
       "      <td>0.0</td>\n",
       "      <td>0.0</td>\n",
       "      <td>0.0</td>\n",
       "      <td>0.0</td>\n",
       "      <td>1.0</td>\n",
       "    </tr>\n",
       "    <tr>\n",
       "      <th>625</th>\n",
       "      <td>0.0</td>\n",
       "      <td>0.0</td>\n",
       "      <td>0.0</td>\n",
       "      <td>0.0</td>\n",
       "      <td>1.0</td>\n",
       "    </tr>\n",
       "    <tr>\n",
       "      <th>2097</th>\n",
       "      <td>0.0</td>\n",
       "      <td>0.0</td>\n",
       "      <td>0.0</td>\n",
       "      <td>0.0</td>\n",
       "      <td>1.0</td>\n",
       "    </tr>\n",
       "    <tr>\n",
       "      <th>...</th>\n",
       "      <td>...</td>\n",
       "      <td>...</td>\n",
       "      <td>...</td>\n",
       "      <td>...</td>\n",
       "      <td>...</td>\n",
       "    </tr>\n",
       "    <tr>\n",
       "      <th>5961</th>\n",
       "      <td>1.0</td>\n",
       "      <td>0.0</td>\n",
       "      <td>0.0</td>\n",
       "      <td>0.0</td>\n",
       "      <td>0.0</td>\n",
       "    </tr>\n",
       "    <tr>\n",
       "      <th>6606</th>\n",
       "      <td>0.0</td>\n",
       "      <td>0.0</td>\n",
       "      <td>0.0</td>\n",
       "      <td>0.0</td>\n",
       "      <td>1.0</td>\n",
       "    </tr>\n",
       "    <tr>\n",
       "      <th>5519</th>\n",
       "      <td>0.0</td>\n",
       "      <td>0.0</td>\n",
       "      <td>0.0</td>\n",
       "      <td>0.0</td>\n",
       "      <td>1.0</td>\n",
       "    </tr>\n",
       "    <tr>\n",
       "      <th>3731</th>\n",
       "      <td>0.0</td>\n",
       "      <td>0.0</td>\n",
       "      <td>0.0</td>\n",
       "      <td>0.0</td>\n",
       "      <td>1.0</td>\n",
       "    </tr>\n",
       "    <tr>\n",
       "      <th>12433</th>\n",
       "      <td>0.0</td>\n",
       "      <td>0.0</td>\n",
       "      <td>0.0</td>\n",
       "      <td>0.0</td>\n",
       "      <td>1.0</td>\n",
       "    </tr>\n",
       "  </tbody>\n",
       "</table>\n",
       "<p>5961 rows × 5 columns</p>\n",
       "</div>"
      ],
      "text/plain": [
       "       View_AVERAGE  View_EXCELLENT  View_FAIR  View_GOOD  View_NONE\n",
       "17430           0.0             0.0        0.0        0.0        1.0\n",
       "2722            0.0             0.0        0.0        0.0        1.0\n",
       "9563            0.0             0.0        0.0        0.0        1.0\n",
       "625             0.0             0.0        0.0        0.0        1.0\n",
       "2097            0.0             0.0        0.0        0.0        1.0\n",
       "...             ...             ...        ...        ...        ...\n",
       "5961            1.0             0.0        0.0        0.0        0.0\n",
       "6606            0.0             0.0        0.0        0.0        1.0\n",
       "5519            0.0             0.0        0.0        0.0        1.0\n",
       "3731            0.0             0.0        0.0        0.0        1.0\n",
       "12433           0.0             0.0        0.0        0.0        1.0\n",
       "\n",
       "[5961 rows x 5 columns]"
      ]
     },
     "execution_count": 26,
     "metadata": {},
     "output_type": "execute_result"
    }
   ],
   "source": [
    "# (1) Create a variable condition_qu_train\n",
    "# extracted from X_train\n",
    "# (double brackets due to shape expected by OHE)\n",
    "view_X_train = X_train[[\"view\"]]\n",
    "\n",
    "# (2) Instantiate a OneHotEncoder with categories=\"auto\",\n",
    "# sparse=False, and handle_unknown=\"ignore\"\n",
    "ohe = OneHotEncoder(categories=\"auto\",\n",
    " sparse=False, handle_unknown=\"ignore\")\n",
    "\n",
    "# (3) Fit the encoder on fireplace_qu_train\n",
    "ohe.fit(view_X_train)\n",
    "\n",
    "# Inspect the categories of the fitted encoder\n",
    "ohe.categories_\n",
    "\n",
    "trans_view_X_train = ohe.transform(view_X_train)\n",
    "\n",
    "# (5a) Make the transformed data into a dataframe\n",
    "encoded_X_train_view = pd.DataFrame(\n",
    "    # Pass in NumPy array\n",
    "    trans_view_X_train,\n",
    "    # Set the column names to the categories found by OHE\n",
    "    columns='View_' + ohe.categories_[0],\n",
    "    # Set the index to match X_train's index\n",
    "    index=X_train.index\n",
    ")\n",
    "\n",
    "# Visually inspect new dataframe\n",
    "encoded_X_train_view"
   ]
  },
  {
   "cell_type": "code",
   "execution_count": 27,
   "metadata": {},
   "outputs": [
    {
     "data": {
      "text/html": [
       "<div>\n",
       "<style scoped>\n",
       "    .dataframe tbody tr th:only-of-type {\n",
       "        vertical-align: middle;\n",
       "    }\n",
       "\n",
       "    .dataframe tbody tr th {\n",
       "        vertical-align: top;\n",
       "    }\n",
       "\n",
       "    .dataframe thead th {\n",
       "        text-align: right;\n",
       "    }\n",
       "</style>\n",
       "<table border=\"1\" class=\"dataframe\">\n",
       "  <thead>\n",
       "    <tr style=\"text-align: right;\">\n",
       "      <th></th>\n",
       "      <th>id</th>\n",
       "      <th>date</th>\n",
       "      <th>bedrooms</th>\n",
       "      <th>bathrooms</th>\n",
       "      <th>sqft_living</th>\n",
       "      <th>sqft_lot</th>\n",
       "      <th>floors</th>\n",
       "      <th>waterfront</th>\n",
       "      <th>grade</th>\n",
       "      <th>sqft_above</th>\n",
       "      <th>...</th>\n",
       "      <th>Cond_Average</th>\n",
       "      <th>Cond_Fair</th>\n",
       "      <th>Cond_Good</th>\n",
       "      <th>Cond_Poor</th>\n",
       "      <th>Cond_Very Good</th>\n",
       "      <th>View_AVERAGE</th>\n",
       "      <th>View_EXCELLENT</th>\n",
       "      <th>View_FAIR</th>\n",
       "      <th>View_GOOD</th>\n",
       "      <th>View_NONE</th>\n",
       "    </tr>\n",
       "  </thead>\n",
       "  <tbody>\n",
       "    <tr>\n",
       "      <th>17430</th>\n",
       "      <td>1959703070</td>\n",
       "      <td>10/29/2014</td>\n",
       "      <td>5</td>\n",
       "      <td>3.0</td>\n",
       "      <td>3730</td>\n",
       "      <td>5500</td>\n",
       "      <td>1.5</td>\n",
       "      <td>NO</td>\n",
       "      <td>7 Average</td>\n",
       "      <td>2160</td>\n",
       "      <td>...</td>\n",
       "      <td>1.0</td>\n",
       "      <td>0.0</td>\n",
       "      <td>0.0</td>\n",
       "      <td>0.0</td>\n",
       "      <td>0.0</td>\n",
       "      <td>0.0</td>\n",
       "      <td>0.0</td>\n",
       "      <td>0.0</td>\n",
       "      <td>0.0</td>\n",
       "      <td>1.0</td>\n",
       "    </tr>\n",
       "    <tr>\n",
       "      <th>2722</th>\n",
       "      <td>2770601741</td>\n",
       "      <td>11/6/2014</td>\n",
       "      <td>3</td>\n",
       "      <td>3.0</td>\n",
       "      <td>1490</td>\n",
       "      <td>2944</td>\n",
       "      <td>2.0</td>\n",
       "      <td>NO</td>\n",
       "      <td>7 Average</td>\n",
       "      <td>960</td>\n",
       "      <td>...</td>\n",
       "      <td>1.0</td>\n",
       "      <td>0.0</td>\n",
       "      <td>0.0</td>\n",
       "      <td>0.0</td>\n",
       "      <td>0.0</td>\n",
       "      <td>0.0</td>\n",
       "      <td>0.0</td>\n",
       "      <td>0.0</td>\n",
       "      <td>0.0</td>\n",
       "      <td>1.0</td>\n",
       "    </tr>\n",
       "    <tr>\n",
       "      <th>9563</th>\n",
       "      <td>5589300205</td>\n",
       "      <td>8/5/2014</td>\n",
       "      <td>5</td>\n",
       "      <td>1.0</td>\n",
       "      <td>1680</td>\n",
       "      <td>9383</td>\n",
       "      <td>1.0</td>\n",
       "      <td>NO</td>\n",
       "      <td>7 Average</td>\n",
       "      <td>1400</td>\n",
       "      <td>...</td>\n",
       "      <td>1.0</td>\n",
       "      <td>0.0</td>\n",
       "      <td>0.0</td>\n",
       "      <td>0.0</td>\n",
       "      <td>0.0</td>\n",
       "      <td>0.0</td>\n",
       "      <td>0.0</td>\n",
       "      <td>0.0</td>\n",
       "      <td>0.0</td>\n",
       "      <td>1.0</td>\n",
       "    </tr>\n",
       "    <tr>\n",
       "      <th>625</th>\n",
       "      <td>7812800565</td>\n",
       "      <td>8/14/2014</td>\n",
       "      <td>3</td>\n",
       "      <td>1.0</td>\n",
       "      <td>960</td>\n",
       "      <td>6400</td>\n",
       "      <td>1.0</td>\n",
       "      <td>NO</td>\n",
       "      <td>6 Low Average</td>\n",
       "      <td>820</td>\n",
       "      <td>...</td>\n",
       "      <td>0.0</td>\n",
       "      <td>0.0</td>\n",
       "      <td>1.0</td>\n",
       "      <td>0.0</td>\n",
       "      <td>0.0</td>\n",
       "      <td>0.0</td>\n",
       "      <td>0.0</td>\n",
       "      <td>0.0</td>\n",
       "      <td>0.0</td>\n",
       "      <td>1.0</td>\n",
       "    </tr>\n",
       "    <tr>\n",
       "      <th>2097</th>\n",
       "      <td>6414100111</td>\n",
       "      <td>11/5/2014</td>\n",
       "      <td>2</td>\n",
       "      <td>1.0</td>\n",
       "      <td>990</td>\n",
       "      <td>9223</td>\n",
       "      <td>1.0</td>\n",
       "      <td>NO</td>\n",
       "      <td>7 Average</td>\n",
       "      <td>990</td>\n",
       "      <td>...</td>\n",
       "      <td>1.0</td>\n",
       "      <td>0.0</td>\n",
       "      <td>0.0</td>\n",
       "      <td>0.0</td>\n",
       "      <td>0.0</td>\n",
       "      <td>0.0</td>\n",
       "      <td>0.0</td>\n",
       "      <td>0.0</td>\n",
       "      <td>0.0</td>\n",
       "      <td>1.0</td>\n",
       "    </tr>\n",
       "  </tbody>\n",
       "</table>\n",
       "<p>5 rows × 27 columns</p>\n",
       "</div>"
      ],
      "text/plain": [
       "               id        date  bedrooms  bathrooms  sqft_living  sqft_lot  \\\n",
       "17430  1959703070  10/29/2014         5        3.0         3730      5500   \n",
       "2722   2770601741   11/6/2014         3        3.0         1490      2944   \n",
       "9563   5589300205    8/5/2014         5        1.0         1680      9383   \n",
       "625    7812800565   8/14/2014         3        1.0          960      6400   \n",
       "2097   6414100111   11/5/2014         2        1.0          990      9223   \n",
       "\n",
       "       floors waterfront          grade  sqft_above  ... Cond_Average  \\\n",
       "17430     1.5         NO      7 Average        2160  ...          1.0   \n",
       "2722      2.0         NO      7 Average         960  ...          1.0   \n",
       "9563      1.0         NO      7 Average        1400  ...          1.0   \n",
       "625       1.0         NO  6 Low Average         820  ...          0.0   \n",
       "2097      1.0         NO      7 Average         990  ...          1.0   \n",
       "\n",
       "       Cond_Fair  Cond_Good  Cond_Poor  Cond_Very Good  View_AVERAGE  \\\n",
       "17430        0.0        0.0        0.0             0.0           0.0   \n",
       "2722         0.0        0.0        0.0             0.0           0.0   \n",
       "9563         0.0        0.0        0.0             0.0           0.0   \n",
       "625          0.0        1.0        0.0             0.0           0.0   \n",
       "2097         0.0        0.0        0.0             0.0           0.0   \n",
       "\n",
       "       View_EXCELLENT  View_FAIR  View_GOOD  View_NONE  \n",
       "17430             0.0        0.0        0.0        1.0  \n",
       "2722              0.0        0.0        0.0        1.0  \n",
       "9563              0.0        0.0        0.0        1.0  \n",
       "625               0.0        0.0        0.0        1.0  \n",
       "2097              0.0        0.0        0.0        1.0  \n",
       "\n",
       "[5 rows x 27 columns]"
      ]
     },
     "execution_count": 27,
     "metadata": {},
     "output_type": "execute_result"
    }
   ],
   "source": [
    "# add our encoded condition columns to our df_seattle dataframe\n",
    "df_seattle2 = pd.concat([df_seattle1, encoded_X_train_view], axis=1)\n",
    "df_seattle2.drop(columns='view', axis=1, inplace=True)\n",
    "df_seattle2.head()"
   ]
  },
  {
   "cell_type": "code",
   "execution_count": 28,
   "metadata": {},
   "outputs": [
    {
     "data": {
      "text/plain": [
       "NO     5914\n",
       "YES      47\n",
       "Name: waterfront, dtype: int64"
      ]
     },
     "execution_count": 28,
     "metadata": {},
     "output_type": "execute_result"
    }
   ],
   "source": [
    "df_seattle2.waterfront.value_counts()"
   ]
  },
  {
   "cell_type": "code",
   "execution_count": 29,
   "metadata": {},
   "outputs": [
    {
     "data": {
      "text/plain": [
       "array(['NO', 'YES'], dtype=object)"
      ]
     },
     "execution_count": 29,
     "metadata": {},
     "output_type": "execute_result"
    }
   ],
   "source": [
    "# (0) import OrdinalEncoder from sklearn.preprocessing\n",
    "\n",
    "# (1) Create a variable street_train that contains the\n",
    "# relevant column from X_train\n",
    "# (Use double brackets [[]] to get the appropriate shape)\n",
    "waterfront_train = X_train[['waterfront']]\n",
    "\n",
    "# (2) Instantiate an OrdinalEncoder\n",
    "encoder_waterfront = OrdinalEncoder()\n",
    "\n",
    "# (3) Fit the encoder on street_train\n",
    "encoder_waterfront.fit(waterfront_train)\n",
    "\n",
    "# Inspect the categories of the fitted encoder\n",
    "encoder_waterfront.categories_[0]\n",
    "\n"
   ]
  },
  {
   "cell_type": "code",
   "execution_count": 30,
   "metadata": {},
   "outputs": [
    {
     "data": {
      "text/plain": [
       "array([0., 0., 0., ..., 0., 0., 0.])"
      ]
     },
     "execution_count": 30,
     "metadata": {},
     "output_type": "execute_result"
    }
   ],
   "source": [
    "# (4) Transform street_train using the encoder and\n",
    "# assign the result to street_encoded_train\n",
    "waterfront_encoded_train = encoder_waterfront.transform(waterfront_train)\n",
    "\n",
    "# Flatten for appropriate shape\n",
    "waterfront_encoded_train = waterfront_encoded_train.flatten()\n",
    "\n",
    "# Visually inspect street_encoded_train\n",
    "waterfront_encoded_train"
   ]
  },
  {
   "cell_type": "code",
   "execution_count": 31,
   "metadata": {},
   "outputs": [
    {
     "data": {
      "text/html": [
       "<div>\n",
       "<style scoped>\n",
       "    .dataframe tbody tr th:only-of-type {\n",
       "        vertical-align: middle;\n",
       "    }\n",
       "\n",
       "    .dataframe tbody tr th {\n",
       "        vertical-align: top;\n",
       "    }\n",
       "\n",
       "    .dataframe thead th {\n",
       "        text-align: right;\n",
       "    }\n",
       "</style>\n",
       "<table border=\"1\" class=\"dataframe\">\n",
       "  <thead>\n",
       "    <tr style=\"text-align: right;\">\n",
       "      <th></th>\n",
       "      <th>id</th>\n",
       "      <th>date</th>\n",
       "      <th>bedrooms</th>\n",
       "      <th>bathrooms</th>\n",
       "      <th>sqft_living</th>\n",
       "      <th>sqft_lot</th>\n",
       "      <th>floors</th>\n",
       "      <th>waterfront</th>\n",
       "      <th>grade</th>\n",
       "      <th>sqft_above</th>\n",
       "      <th>...</th>\n",
       "      <th>Cond_Average</th>\n",
       "      <th>Cond_Fair</th>\n",
       "      <th>Cond_Good</th>\n",
       "      <th>Cond_Poor</th>\n",
       "      <th>Cond_Very Good</th>\n",
       "      <th>View_AVERAGE</th>\n",
       "      <th>View_EXCELLENT</th>\n",
       "      <th>View_FAIR</th>\n",
       "      <th>View_GOOD</th>\n",
       "      <th>View_NONE</th>\n",
       "    </tr>\n",
       "  </thead>\n",
       "  <tbody>\n",
       "    <tr>\n",
       "      <th>17430</th>\n",
       "      <td>1959703070</td>\n",
       "      <td>10/29/2014</td>\n",
       "      <td>5</td>\n",
       "      <td>3.0</td>\n",
       "      <td>3730</td>\n",
       "      <td>5500</td>\n",
       "      <td>1.5</td>\n",
       "      <td>0.0</td>\n",
       "      <td>7 Average</td>\n",
       "      <td>2160</td>\n",
       "      <td>...</td>\n",
       "      <td>1.0</td>\n",
       "      <td>0.0</td>\n",
       "      <td>0.0</td>\n",
       "      <td>0.0</td>\n",
       "      <td>0.0</td>\n",
       "      <td>0.0</td>\n",
       "      <td>0.0</td>\n",
       "      <td>0.0</td>\n",
       "      <td>0.0</td>\n",
       "      <td>1.0</td>\n",
       "    </tr>\n",
       "    <tr>\n",
       "      <th>2722</th>\n",
       "      <td>2770601741</td>\n",
       "      <td>11/6/2014</td>\n",
       "      <td>3</td>\n",
       "      <td>3.0</td>\n",
       "      <td>1490</td>\n",
       "      <td>2944</td>\n",
       "      <td>2.0</td>\n",
       "      <td>0.0</td>\n",
       "      <td>7 Average</td>\n",
       "      <td>960</td>\n",
       "      <td>...</td>\n",
       "      <td>1.0</td>\n",
       "      <td>0.0</td>\n",
       "      <td>0.0</td>\n",
       "      <td>0.0</td>\n",
       "      <td>0.0</td>\n",
       "      <td>0.0</td>\n",
       "      <td>0.0</td>\n",
       "      <td>0.0</td>\n",
       "      <td>0.0</td>\n",
       "      <td>1.0</td>\n",
       "    </tr>\n",
       "    <tr>\n",
       "      <th>9563</th>\n",
       "      <td>5589300205</td>\n",
       "      <td>8/5/2014</td>\n",
       "      <td>5</td>\n",
       "      <td>1.0</td>\n",
       "      <td>1680</td>\n",
       "      <td>9383</td>\n",
       "      <td>1.0</td>\n",
       "      <td>0.0</td>\n",
       "      <td>7 Average</td>\n",
       "      <td>1400</td>\n",
       "      <td>...</td>\n",
       "      <td>1.0</td>\n",
       "      <td>0.0</td>\n",
       "      <td>0.0</td>\n",
       "      <td>0.0</td>\n",
       "      <td>0.0</td>\n",
       "      <td>0.0</td>\n",
       "      <td>0.0</td>\n",
       "      <td>0.0</td>\n",
       "      <td>0.0</td>\n",
       "      <td>1.0</td>\n",
       "    </tr>\n",
       "    <tr>\n",
       "      <th>625</th>\n",
       "      <td>7812800565</td>\n",
       "      <td>8/14/2014</td>\n",
       "      <td>3</td>\n",
       "      <td>1.0</td>\n",
       "      <td>960</td>\n",
       "      <td>6400</td>\n",
       "      <td>1.0</td>\n",
       "      <td>0.0</td>\n",
       "      <td>6 Low Average</td>\n",
       "      <td>820</td>\n",
       "      <td>...</td>\n",
       "      <td>0.0</td>\n",
       "      <td>0.0</td>\n",
       "      <td>1.0</td>\n",
       "      <td>0.0</td>\n",
       "      <td>0.0</td>\n",
       "      <td>0.0</td>\n",
       "      <td>0.0</td>\n",
       "      <td>0.0</td>\n",
       "      <td>0.0</td>\n",
       "      <td>1.0</td>\n",
       "    </tr>\n",
       "    <tr>\n",
       "      <th>2097</th>\n",
       "      <td>6414100111</td>\n",
       "      <td>11/5/2014</td>\n",
       "      <td>2</td>\n",
       "      <td>1.0</td>\n",
       "      <td>990</td>\n",
       "      <td>9223</td>\n",
       "      <td>1.0</td>\n",
       "      <td>0.0</td>\n",
       "      <td>7 Average</td>\n",
       "      <td>990</td>\n",
       "      <td>...</td>\n",
       "      <td>1.0</td>\n",
       "      <td>0.0</td>\n",
       "      <td>0.0</td>\n",
       "      <td>0.0</td>\n",
       "      <td>0.0</td>\n",
       "      <td>0.0</td>\n",
       "      <td>0.0</td>\n",
       "      <td>0.0</td>\n",
       "      <td>0.0</td>\n",
       "      <td>1.0</td>\n",
       "    </tr>\n",
       "  </tbody>\n",
       "</table>\n",
       "<p>5 rows × 27 columns</p>\n",
       "</div>"
      ],
      "text/plain": [
       "               id        date  bedrooms  bathrooms  sqft_living  sqft_lot  \\\n",
       "17430  1959703070  10/29/2014         5        3.0         3730      5500   \n",
       "2722   2770601741   11/6/2014         3        3.0         1490      2944   \n",
       "9563   5589300205    8/5/2014         5        1.0         1680      9383   \n",
       "625    7812800565   8/14/2014         3        1.0          960      6400   \n",
       "2097   6414100111   11/5/2014         2        1.0          990      9223   \n",
       "\n",
       "       floors  waterfront          grade  sqft_above  ... Cond_Average  \\\n",
       "17430     1.5         0.0      7 Average        2160  ...          1.0   \n",
       "2722      2.0         0.0      7 Average         960  ...          1.0   \n",
       "9563      1.0         0.0      7 Average        1400  ...          1.0   \n",
       "625       1.0         0.0  6 Low Average         820  ...          0.0   \n",
       "2097      1.0         0.0      7 Average         990  ...          1.0   \n",
       "\n",
       "       Cond_Fair  Cond_Good  Cond_Poor  Cond_Very Good  View_AVERAGE  \\\n",
       "17430        0.0        0.0        0.0             0.0           0.0   \n",
       "2722         0.0        0.0        0.0             0.0           0.0   \n",
       "9563         0.0        0.0        0.0             0.0           0.0   \n",
       "625          0.0        1.0        0.0             0.0           0.0   \n",
       "2097         0.0        0.0        0.0             0.0           0.0   \n",
       "\n",
       "       View_EXCELLENT  View_FAIR  View_GOOD  View_NONE  \n",
       "17430             0.0        0.0        0.0        1.0  \n",
       "2722              0.0        0.0        0.0        1.0  \n",
       "9563              0.0        0.0        0.0        1.0  \n",
       "625               0.0        0.0        0.0        1.0  \n",
       "2097              0.0        0.0        0.0        1.0  \n",
       "\n",
       "[5 rows x 27 columns]"
      ]
     },
     "execution_count": 31,
     "metadata": {},
     "output_type": "execute_result"
    }
   ],
   "source": [
    "# (5) Replace value of Street\n",
    "df_seattle2[\"waterfront\"] = waterfront_encoded_train\n",
    "\n",
    "# Visually inspect X_train\n",
    "df_seattle2.head()"
   ]
  },
  {
   "cell_type": "code",
   "execution_count": 32,
   "metadata": {
    "scrolled": false
   },
   "outputs": [
    {
     "data": {
      "text/plain": [
       "Index(['id', 'date', 'bedrooms', 'bathrooms', 'sqft_living', 'sqft_lot',\n",
       "       'floors', 'waterfront', 'grade', 'sqft_above', 'sqft_basement',\n",
       "       'yr_built', 'zipcode', 'lat', 'long', 'sqft_living15', 'sqft_lot15',\n",
       "       'Cond_Average', 'Cond_Fair', 'Cond_Good', 'Cond_Poor', 'Cond_Very Good',\n",
       "       'View_AVERAGE', 'View_EXCELLENT', 'View_FAIR', 'View_GOOD',\n",
       "       'View_NONE'],\n",
       "      dtype='object')"
      ]
     },
     "execution_count": 32,
     "metadata": {},
     "output_type": "execute_result"
    }
   ],
   "source": [
    "df_seattle2.columns"
   ]
  },
  {
   "cell_type": "code",
   "execution_count": 33,
   "metadata": {},
   "outputs": [
    {
     "data": {
      "text/plain": [
       "7 Average        2832\n",
       "8 Good           1508\n",
       "6 Low Average     893\n",
       "9 Better          462\n",
       "10 Very Good      145\n",
       "5 Fair             58\n",
       "11 Excellent       41\n",
       "12 Luxury          10\n",
       "4 Low               6\n",
       "13 Mansion          6\n",
       "Name: grade, dtype: int64"
      ]
     },
     "execution_count": 33,
     "metadata": {},
     "output_type": "execute_result"
    }
   ],
   "source": [
    "df_seattle2['grade'].value_counts()"
   ]
  },
  {
   "cell_type": "code",
   "execution_count": 37,
   "metadata": {},
   "outputs": [
    {
     "data": {
      "text/html": [
       "<div>\n",
       "<style scoped>\n",
       "    .dataframe tbody tr th:only-of-type {\n",
       "        vertical-align: middle;\n",
       "    }\n",
       "\n",
       "    .dataframe tbody tr th {\n",
       "        vertical-align: top;\n",
       "    }\n",
       "\n",
       "    .dataframe thead th {\n",
       "        text-align: right;\n",
       "    }\n",
       "</style>\n",
       "<table border=\"1\" class=\"dataframe\">\n",
       "  <thead>\n",
       "    <tr style=\"text-align: right;\">\n",
       "      <th></th>\n",
       "      <th>id</th>\n",
       "      <th>date</th>\n",
       "      <th>bedrooms</th>\n",
       "      <th>bathrooms</th>\n",
       "      <th>sqft_living</th>\n",
       "      <th>sqft_lot</th>\n",
       "      <th>floors</th>\n",
       "      <th>waterfront</th>\n",
       "      <th>sqft_above</th>\n",
       "      <th>sqft_basement</th>\n",
       "      <th>...</th>\n",
       "      <th>grade10 Very Good</th>\n",
       "      <th>grade11 Excellent</th>\n",
       "      <th>grade12 Luxury</th>\n",
       "      <th>grade13 Mansion</th>\n",
       "      <th>grade4 Low</th>\n",
       "      <th>grade5 Fair</th>\n",
       "      <th>grade6 Low Average</th>\n",
       "      <th>grade7 Average</th>\n",
       "      <th>grade8 Good</th>\n",
       "      <th>grade9 Better</th>\n",
       "    </tr>\n",
       "  </thead>\n",
       "  <tbody>\n",
       "    <tr>\n",
       "      <th>17430</th>\n",
       "      <td>1959703070</td>\n",
       "      <td>10/29/2014</td>\n",
       "      <td>5</td>\n",
       "      <td>3.0</td>\n",
       "      <td>3730</td>\n",
       "      <td>5500</td>\n",
       "      <td>1.5</td>\n",
       "      <td>0.0</td>\n",
       "      <td>2160</td>\n",
       "      <td>1570.0</td>\n",
       "      <td>...</td>\n",
       "      <td>0.0</td>\n",
       "      <td>0.0</td>\n",
       "      <td>0.0</td>\n",
       "      <td>0.0</td>\n",
       "      <td>0.0</td>\n",
       "      <td>0.0</td>\n",
       "      <td>0.0</td>\n",
       "      <td>1.0</td>\n",
       "      <td>0.0</td>\n",
       "      <td>0.0</td>\n",
       "    </tr>\n",
       "    <tr>\n",
       "      <th>2722</th>\n",
       "      <td>2770601741</td>\n",
       "      <td>11/6/2014</td>\n",
       "      <td>3</td>\n",
       "      <td>3.0</td>\n",
       "      <td>1490</td>\n",
       "      <td>2944</td>\n",
       "      <td>2.0</td>\n",
       "      <td>0.0</td>\n",
       "      <td>960</td>\n",
       "      <td>530.0</td>\n",
       "      <td>...</td>\n",
       "      <td>0.0</td>\n",
       "      <td>0.0</td>\n",
       "      <td>0.0</td>\n",
       "      <td>0.0</td>\n",
       "      <td>0.0</td>\n",
       "      <td>0.0</td>\n",
       "      <td>0.0</td>\n",
       "      <td>1.0</td>\n",
       "      <td>0.0</td>\n",
       "      <td>0.0</td>\n",
       "    </tr>\n",
       "    <tr>\n",
       "      <th>9563</th>\n",
       "      <td>5589300205</td>\n",
       "      <td>8/5/2014</td>\n",
       "      <td>5</td>\n",
       "      <td>1.0</td>\n",
       "      <td>1680</td>\n",
       "      <td>9383</td>\n",
       "      <td>1.0</td>\n",
       "      <td>0.0</td>\n",
       "      <td>1400</td>\n",
       "      <td>280.0</td>\n",
       "      <td>...</td>\n",
       "      <td>0.0</td>\n",
       "      <td>0.0</td>\n",
       "      <td>0.0</td>\n",
       "      <td>0.0</td>\n",
       "      <td>0.0</td>\n",
       "      <td>0.0</td>\n",
       "      <td>0.0</td>\n",
       "      <td>1.0</td>\n",
       "      <td>0.0</td>\n",
       "      <td>0.0</td>\n",
       "    </tr>\n",
       "    <tr>\n",
       "      <th>625</th>\n",
       "      <td>7812800565</td>\n",
       "      <td>8/14/2014</td>\n",
       "      <td>3</td>\n",
       "      <td>1.0</td>\n",
       "      <td>960</td>\n",
       "      <td>6400</td>\n",
       "      <td>1.0</td>\n",
       "      <td>0.0</td>\n",
       "      <td>820</td>\n",
       "      <td>140.0</td>\n",
       "      <td>...</td>\n",
       "      <td>0.0</td>\n",
       "      <td>0.0</td>\n",
       "      <td>0.0</td>\n",
       "      <td>0.0</td>\n",
       "      <td>0.0</td>\n",
       "      <td>0.0</td>\n",
       "      <td>1.0</td>\n",
       "      <td>0.0</td>\n",
       "      <td>0.0</td>\n",
       "      <td>0.0</td>\n",
       "    </tr>\n",
       "    <tr>\n",
       "      <th>2097</th>\n",
       "      <td>6414100111</td>\n",
       "      <td>11/5/2014</td>\n",
       "      <td>2</td>\n",
       "      <td>1.0</td>\n",
       "      <td>990</td>\n",
       "      <td>9223</td>\n",
       "      <td>1.0</td>\n",
       "      <td>0.0</td>\n",
       "      <td>990</td>\n",
       "      <td>0.0</td>\n",
       "      <td>...</td>\n",
       "      <td>0.0</td>\n",
       "      <td>0.0</td>\n",
       "      <td>0.0</td>\n",
       "      <td>0.0</td>\n",
       "      <td>0.0</td>\n",
       "      <td>0.0</td>\n",
       "      <td>0.0</td>\n",
       "      <td>1.0</td>\n",
       "      <td>0.0</td>\n",
       "      <td>0.0</td>\n",
       "    </tr>\n",
       "  </tbody>\n",
       "</table>\n",
       "<p>5 rows × 36 columns</p>\n",
       "</div>"
      ],
      "text/plain": [
       "               id        date  bedrooms  bathrooms  sqft_living  sqft_lot  \\\n",
       "17430  1959703070  10/29/2014         5        3.0         3730      5500   \n",
       "2722   2770601741   11/6/2014         3        3.0         1490      2944   \n",
       "9563   5589300205    8/5/2014         5        1.0         1680      9383   \n",
       "625    7812800565   8/14/2014         3        1.0          960      6400   \n",
       "2097   6414100111   11/5/2014         2        1.0          990      9223   \n",
       "\n",
       "       floors  waterfront  sqft_above sqft_basement  ...  grade10 Very Good  \\\n",
       "17430     1.5         0.0        2160        1570.0  ...                0.0   \n",
       "2722      2.0         0.0         960         530.0  ...                0.0   \n",
       "9563      1.0         0.0        1400         280.0  ...                0.0   \n",
       "625       1.0         0.0         820         140.0  ...                0.0   \n",
       "2097      1.0         0.0         990           0.0  ...                0.0   \n",
       "\n",
       "       grade11 Excellent  grade12 Luxury  grade13 Mansion  grade4 Low  \\\n",
       "17430                0.0             0.0              0.0         0.0   \n",
       "2722                 0.0             0.0              0.0         0.0   \n",
       "9563                 0.0             0.0              0.0         0.0   \n",
       "625                  0.0             0.0              0.0         0.0   \n",
       "2097                 0.0             0.0              0.0         0.0   \n",
       "\n",
       "       grade5 Fair  grade6 Low Average  grade7 Average  grade8 Good  \\\n",
       "17430          0.0                 0.0             1.0          0.0   \n",
       "2722           0.0                 0.0             1.0          0.0   \n",
       "9563           0.0                 0.0             1.0          0.0   \n",
       "625            0.0                 1.0             0.0          0.0   \n",
       "2097           0.0                 0.0             1.0          0.0   \n",
       "\n",
       "       grade9 Better  \n",
       "17430            0.0  \n",
       "2722             0.0  \n",
       "9563             0.0  \n",
       "625              0.0  \n",
       "2097             0.0  \n",
       "\n",
       "[5 rows x 36 columns]"
      ]
     },
     "execution_count": 37,
     "metadata": {},
     "output_type": "execute_result"
    }
   ],
   "source": [
    "grade_X_train = X_train[[\"grade\"]]\n",
    "\n",
    "ohe = OneHotEncoder(categories=\"auto\",\n",
    " sparse=False, handle_unknown=\"ignore\")\n",
    "\n",
    "ohe.fit(grade_X_train)\n",
    "trans_grade_X_train = ohe.transform(grade_X_train)\n",
    "df_seattle3 = pd.concat([df_seattle2, graded_X_train], axis=1)\n",
    "df_seattle3.drop(columns='grade', axis=1, inplace=True)\n",
    "df_seattle3.head()\n"
   ]
  },
  {
   "cell_type": "code",
   "execution_count": 35,
   "metadata": {},
   "outputs": [],
   "source": [
    "graded_X_train = pd.DataFrame(\n",
    "\n",
    "    trans_grade_X_train,\n",
    "\n",
    "    columns= 'grade' + ohe.categories_[0],\n",
    "\n",
    "    index=X_train.index\n",
    ")\n"
   ]
  },
  {
   "cell_type": "code",
   "execution_count": 36,
   "metadata": {
    "scrolled": false
   },
   "outputs": [],
   "source": [
    "#seattle_final = df_seattle3.drop(columns=['grade7 Average','Cond_Average', 'View_AVERAGE'], axis=1)\n",
    "#seattle_final = seattle_final.join(y_train)"
   ]
  },
  {
   "cell_type": "code",
   "execution_count": null,
   "metadata": {},
   "outputs": [],
   "source": [
    "#seattle_final.columns"
   ]
  },
  {
   "cell_type": "markdown",
   "metadata": {},
   "source": [
    "## Checking the correlation between year was built and price"
   ]
  },
  {
   "cell_type": "code",
   "execution_count": null,
   "metadata": {},
   "outputs": [],
   "source": [
    "df_seattle2.info()"
   ]
  },
  {
   "cell_type": "code",
   "execution_count": null,
   "metadata": {
    "scrolled": true
   },
   "outputs": [],
   "source": [
    "yr_built = df_seattle2['yr_built']\n",
    "yr_built.value_counts()"
   ]
  },
  {
   "cell_type": "code",
   "execution_count": null,
   "metadata": {
    "scrolled": true
   },
   "outputs": [],
   "source": [
    "X_train.head()"
   ]
  },
  {
   "cell_type": "code",
   "execution_count": null,
   "metadata": {
    "scrolled": true
   },
   "outputs": [],
   "source": [
    "formula = 'y_train ~ yr_built'\n",
    "yr_built_model = sm.formula.ols(formula=formula, data=df_seattle2).fit()\n",
    "yr_built_summ = yr_built_model.summary()\n",
    "yr_built_summ"
   ]
  },
  {
   "cell_type": "code",
   "execution_count": null,
   "metadata": {},
   "outputs": [],
   "source": [
    "y_train.head()"
   ]
  },
  {
   "cell_type": "code",
   "execution_count": null,
   "metadata": {},
   "outputs": [],
   "source": [
    "fig, ax = plt.subplots()\n",
    "ax.scatter(yr_built, y_train)"
   ]
  },
  {
   "cell_type": "code",
   "execution_count": null,
   "metadata": {
    "scrolled": true
   },
   "outputs": [],
   "source": [
    "X_train['sqft_living'].value_counts()"
   ]
  },
  {
   "cell_type": "code",
   "execution_count": null,
   "metadata": {},
   "outputs": [],
   "source": [
    "X_train['zipcode'].value_counts()"
   ]
  },
  {
   "cell_type": "code",
   "execution_count": null,
   "metadata": {
    "scrolled": true
   },
   "outputs": [],
   "source": [
    "sqft_1400 = X_train.loc[df_seattle2['sqft_living']==1400]\n",
    "sqft_1400"
   ]
  },
  {
   "cell_type": "code",
   "execution_count": null,
   "metadata": {},
   "outputs": [],
   "source": [
    "sqft_1400_price = sqft_1400.join(y_train)"
   ]
  },
  {
   "cell_type": "code",
   "execution_count": null,
   "metadata": {},
   "outputs": [],
   "source": [
    "sqft_1400_price"
   ]
  },
  {
   "cell_type": "code",
   "execution_count": null,
   "metadata": {
    "scrolled": true
   },
   "outputs": [],
   "source": [
    "yr_built_1400 = sqft_1400_price['yr_built']\n",
    "price_1400 = sqft_1400_price['price']"
   ]
  },
  {
   "cell_type": "code",
   "execution_count": null,
   "metadata": {},
   "outputs": [],
   "source": [
    "formula = 'price_1400 ~ yr_built_1400'\n",
    "sqft_1400_model = sm.formula.ols(formula=formula, data=sqft_1400_price).fit()\n",
    "sqft_1400_summ = yr_built_model.summary()\n",
    "sqft_1400_summ"
   ]
  },
  {
   "cell_type": "code",
   "execution_count": null,
   "metadata": {},
   "outputs": [],
   "source": [
    "plt.scatter(yr_built_1400, price_1400)"
   ]
  },
  {
   "cell_type": "code",
   "execution_count": null,
   "metadata": {},
   "outputs": [],
   "source": [
    "def sqft_yr_built_price(sqft):\n",
    "    sqft_num = df_seattle2.loc[df_seattle2['sqft_living']==sqft] \n",
    "    sqft_num_price = sqft_num.join(y_train)\n",
    "    yr_built_sqft = sqft_num_price['yr_built']\n",
    "    price_sqft = sqft_num_price['price']\n",
    "    formula = 'price_sqft ~ yr_built_sqft'\n",
    "    sqft_model = sm.formula.ols(formula=formula, data=sqft_num_price).fit()\n",
    "    sqft_summ = sqft_model.summary()\n",
    "    scatter_plot = plt.scatter(yr_built_sqft, price_sqft)\n",
    "    plt.xlabel('Year was built')\n",
    "    plt.ylabel('Price')\n",
    "    return sqft_summ"
   ]
  },
  {
   "cell_type": "code",
   "execution_count": null,
   "metadata": {},
   "outputs": [],
   "source": [
    "sqft_price = sqft_yr_built_price(1320)"
   ]
  },
  {
   "cell_type": "code",
   "execution_count": null,
   "metadata": {},
   "outputs": [],
   "source": [
    "sqft_price"
   ]
  },
  {
   "cell_type": "code",
   "execution_count": null,
   "metadata": {},
   "outputs": [],
   "source": [
    "def sqft_zip_yr_built_price(sqft, zipcode):\n",
    "    sqft_num = df_seattle2.loc[df_seattle2['sqft_living']==sqft] \n",
    "    zipcode_seattle = sqft_num.loc[sqft_num['zipcode']==zipcode]\n",
    "    sqft_zip_price = zipcode_seattle.join(y_train)\n",
    "    yr_built_sqft_zip = sqft_zip_price['yr_built']\n",
    "    price_sqft_zip = sqft_zip_price['price']\n",
    "    formula = 'price_sqft_zip ~ yr_built_sqft_zip'\n",
    "    sqft_model = sm.formula.ols(formula=formula, data=sqft_zip_price).fit()\n",
    "    sqft_summ = sqft_model.summary()\n",
    "    scatter_plot = plt.scatter(yr_built_sqft_zip, price_sqft_zip)\n",
    "    return sqft_summ"
   ]
  },
  {
   "cell_type": "code",
   "execution_count": null,
   "metadata": {},
   "outputs": [],
   "source": [
    "sqft_1540 = sqft_zip_yr_built_price(1540,98103)"
   ]
  },
  {
   "cell_type": "code",
   "execution_count": null,
   "metadata": {},
   "outputs": [],
   "source": [
    "sqft_1540"
   ]
  },
  {
   "cell_type": "code",
   "execution_count": null,
   "metadata": {},
   "outputs": [],
   "source": [
    "df_seattle2"
   ]
  },
  {
   "cell_type": "code",
   "execution_count": null,
   "metadata": {},
   "outputs": [],
   "source": [
    "sqft_1540 = df_seattle2.loc[df_seattle2['sqft_living']==1540]\n",
    "sqft_1540_price = sqft_1540.join(y_train)\n",
    "sqft_1540_price"
   ]
  },
  {
   "cell_type": "code",
   "execution_count": null,
   "metadata": {},
   "outputs": [],
   "source": [
    "yr_built_1540 = df_seattle2.loc[df_seattle2['sqft_living']==1540]['yr_built']\n",
    "price_1540 = sqft_1540_price['price']"
   ]
  },
  {
   "cell_type": "code",
   "execution_count": null,
   "metadata": {},
   "outputs": [],
   "source": [
    "plt.scatter(yr_built_1540, price_1540)"
   ]
  },
  {
   "cell_type": "markdown",
   "metadata": {},
   "source": [
    "## Checking the correlation between year was built and price with same grade"
   ]
  },
  {
   "cell_type": "code",
   "execution_count": null,
   "metadata": {},
   "outputs": [],
   "source": [
    "def grade_yr_built_price(grade):\n",
    "    grade_num = df_seattle2.loc[df_seattle2['grade']==grade] \n",
    "    grade_num_price = grade_num.join(y_train)\n",
    "    yr_built_grade = grade_num_price['yr_built']\n",
    "    price_grade = grade_num_price['price']\n",
    "    formula = 'price_grade ~ yr_built_grade'\n",
    "    grade_model = sm.formula.ols(formula=formula, data=grade_num_price).fit()\n",
    "    grade_summ = grade_model.summary()\n",
    "    scatter_plot = plt.scatter(yr_built_grade, price_grade)\n",
    "    plt.xlabel('Year was built')\n",
    "    plt.ylabel('Price')\n",
    "    return grade_summ"
   ]
  },
  {
   "cell_type": "code",
   "execution_count": null,
   "metadata": {
    "scrolled": false
   },
   "outputs": [],
   "source": [
    "grade_ls = ['10 Very Good','11 Excellent', '12 Luxury', '13 Mansion', '4 Low','5 Fair', \n",
    "            '6 Low Average', '8 Good', '9 Better']\n",
    "house_grade = grade_yr_built_price('8 Good')"
   ]
  },
  {
   "cell_type": "code",
   "execution_count": null,
   "metadata": {},
   "outputs": [],
   "source": [
    "house_grade"
   ]
  },
  {
   "cell_type": "markdown",
   "metadata": {},
   "source": [
    "## Checking the correlation between year was built and price with same condition"
   ]
  },
  {
   "cell_type": "code",
   "execution_count": null,
   "metadata": {
    "scrolled": true
   },
   "outputs": [],
   "source": [
    "df_seattle2 = df_seattle2.join(df_seattle['condition'])\n",
    "df_seattle2.head()"
   ]
  },
  {
   "cell_type": "code",
   "execution_count": null,
   "metadata": {},
   "outputs": [],
   "source": [
    "def cond_yr_built_price(condition, grade):\n",
    "    condition_df = df_seattle2.loc[df_seattle2['condition']==condition]\n",
    "    condition_grade = condition_df.loc[condition_df['grade']==grade]\n",
    "    condition_grade_price = condition_grade.join(y_train)\n",
    "    yr_built_cond_grade = condition_grade_price['yr_built']\n",
    "    price_condition_grade = condition_grade_price['price']\n",
    "    formula = 'price_condition_grade ~ yr_built_cond_grade'\n",
    "    cond_grade_model = sm.formula.ols(formula=formula, data=condition_grade_price).fit()\n",
    "    cond_grade_summ = cond_grade_model.summary()\n",
    "    scatter_plot = plt.scatter(yr_built_cond_grade, price_condition_grade)\n",
    "    plt.xlabel('Year was built')\n",
    "    plt.ylabel('Price')\n",
    "    return cond_grade_summ"
   ]
  },
  {
   "cell_type": "code",
   "execution_count": null,
   "metadata": {},
   "outputs": [],
   "source": [
    "df_seattle['condition'].value_counts()\n",
    "grade_ls = ['10 Very Good','11 Excellent', '12 Luxury', '13 Mansion', '4 Low','5 Fair', \n",
    "            '6 Low Average','7 Average', '8 Good', '9 Better']"
   ]
  },
  {
   "cell_type": "code",
   "execution_count": null,
   "metadata": {
    "scrolled": true
   },
   "outputs": [],
   "source": [
    "house_condition = cond_yr_built_price('Good', '9 Better')"
   ]
  },
  {
   "cell_type": "code",
   "execution_count": null,
   "metadata": {},
   "outputs": [],
   "source": [
    "house_condition"
   ]
  },
  {
   "cell_type": "code",
   "execution_count": 39,
   "metadata": {},
   "outputs": [],
   "source": [
    "sqft = df_seattle2['sqft_living']\n",
    "sqft_lot = df_seattle2['sqft_lot']\n",
    "\n",
    "formula_sqft = 'y_train ~ sqft + sqft_lot'\n",
    "sqft_lr =  sm.formula.ols(formula=formula_sqft, data=df_seattle2).fit()\n",
    "sqft_summ = sqft_lr.summary()"
   ]
  },
  {
   "cell_type": "code",
   "execution_count": null,
   "metadata": {},
   "outputs": [],
   "source": [
    "sqft_summ"
   ]
  },
  {
   "cell_type": "code",
   "execution_count": 40,
   "metadata": {},
   "outputs": [],
   "source": [
    "sqft_15 = df_seattle2['sqft_living15']\n",
    "sqft_15_lot = df_seattle2['sqft_lot15']\n",
    "\n",
    "formula_sqft15 = 'y_train ~ sqft_15 + sqft_15_lot'\n",
    "sqft15_lr = sm.formula.ols(formula=formula_sqft15, data=df_seattle2).fit()\n",
    "sqft15_summ = sqft15_lr.summary()"
   ]
  },
  {
   "cell_type": "code",
   "execution_count": null,
   "metadata": {},
   "outputs": [],
   "source": [
    "sqft15_summ"
   ]
  },
  {
   "cell_type": "code",
   "execution_count": 45,
   "metadata": {},
   "outputs": [
    {
     "data": {
      "text/plain": [
       "Index(['id', 'date', 'bedrooms', 'bathrooms', 'sqft_living', 'sqft_lot',\n",
       "       'floors', 'waterfront', 'grade', 'sqft_above', 'sqft_basement',\n",
       "       'yr_built', 'zipcode', 'lat', 'long', 'sqft_living15', 'sqft_lot15',\n",
       "       'Cond_Average', 'Cond_Fair', 'Cond_Good', 'Cond_Poor', 'Cond_Very Good',\n",
       "       'View_AVERAGE', 'View_EXCELLENT', 'View_FAIR', 'View_GOOD',\n",
       "       'View_NONE'],\n",
       "      dtype='object')"
      ]
     },
     "execution_count": 45,
     "metadata": {},
     "output_type": "execute_result"
    }
   ],
   "source": [
    "df_seattle2.columns"
   ]
  },
  {
   "cell_type": "code",
   "execution_count": 46,
   "metadata": {
    "scrolled": true
   },
   "outputs": [
    {
     "data": {
      "image/png": "[encoded data removed]",
      "text/plain": [
       "<Figure size 720x720 with 20 Axes>"
      ]
     },
     "metadata": {},
     "output_type": "display_data"
    }
   ],
   "source": [
    "train_df = df_seattle2[['sqft_living','sqft_lot','sqft_living15','sqft_lot15']]\n",
    "sns.pairplot(train_df)\n",
    "plt.show()"
   ]
  },
  {
   "cell_type": "code",
   "execution_count": 42,
   "metadata": {},
   "outputs": [],
   "source": [
    "formula_multi = 'y_train ~ sqft + sqft_lot + sqft_15 + sqft_15_lot'\n",
    "multi_lr = sm.formula.ols(formula=formula_multi, data=df_seattle2).fit()\n",
    "multi_summ = multi_lr.summary()"
   ]
  },
  {
   "cell_type": "code",
   "execution_count": 43,
   "metadata": {},
   "outputs": [
    {
     "data": {
      "text/html": [
       "<table class=\"simpletable\">\n",
       "<caption>OLS Regression Results</caption>\n",
       "<tr>\n",
       "  <th>Dep. Variable:</th>         <td>y_train</td>     <th>  R-squared:         </th> <td>   0.594</td> \n",
       "</tr>\n",
       "<tr>\n",
       "  <th>Model:</th>                   <td>OLS</td>       <th>  Adj. R-squared:    </th> <td>   0.594</td> \n",
       "</tr>\n",
       "<tr>\n",
       "  <th>Method:</th>             <td>Least Squares</td>  <th>  F-statistic:       </th> <td>   2177.</td> \n",
       "</tr>\n",
       "<tr>\n",
       "  <th>Date:</th>             <td>Thu, 23 Jun 2022</td> <th>  Prob (F-statistic):</th>  <td>  0.00</td>  \n",
       "</tr>\n",
       "<tr>\n",
       "  <th>Time:</th>                 <td>05:58:07</td>     <th>  Log-Likelihood:    </th> <td> -81923.</td> \n",
       "</tr>\n",
       "<tr>\n",
       "  <th>No. Observations:</th>      <td>  5961</td>      <th>  AIC:               </th> <td>1.639e+05</td>\n",
       "</tr>\n",
       "<tr>\n",
       "  <th>Df Residuals:</th>          <td>  5956</td>      <th>  BIC:               </th> <td>1.639e+05</td>\n",
       "</tr>\n",
       "<tr>\n",
       "  <th>Df Model:</th>              <td>     4</td>      <th>                     </th>     <td> </td>    \n",
       "</tr>\n",
       "<tr>\n",
       "  <th>Covariance Type:</th>      <td>nonrobust</td>    <th>                     </th>     <td> </td>    \n",
       "</tr>\n",
       "</table>\n",
       "<table class=\"simpletable\">\n",
       "<tr>\n",
       "       <td></td>          <th>coef</th>     <th>std err</th>      <th>t</th>      <th>P>|t|</th>  <th>[0.025</th>    <th>0.975]</th>  \n",
       "</tr>\n",
       "<tr>\n",
       "  <th>Intercept</th>   <td>-2.017e+05</td> <td> 1.02e+04</td> <td>  -19.762</td> <td> 0.000</td> <td>-2.22e+05</td> <td>-1.82e+05</td>\n",
       "</tr>\n",
       "<tr>\n",
       "  <th>sqft</th>        <td>  249.3761</td> <td>    4.754</td> <td>   52.459</td> <td> 0.000</td> <td>  240.057</td> <td>  258.695</td>\n",
       "</tr>\n",
       "<tr>\n",
       "  <th>sqft_lot</th>    <td>   -3.1389</td> <td>    0.768</td> <td>   -4.088</td> <td> 0.000</td> <td>   -4.644</td> <td>   -1.634</td>\n",
       "</tr>\n",
       "<tr>\n",
       "  <th>sqft_15</th>     <td>  214.7899</td> <td>    7.767</td> <td>   27.654</td> <td> 0.000</td> <td>  199.564</td> <td>  230.016</td>\n",
       "</tr>\n",
       "<tr>\n",
       "  <th>sqft_15_lot</th> <td>   -8.2859</td> <td>    0.927</td> <td>   -8.935</td> <td> 0.000</td> <td>  -10.104</td> <td>   -6.468</td>\n",
       "</tr>\n",
       "</table>\n",
       "<table class=\"simpletable\">\n",
       "<tr>\n",
       "  <th>Omnibus:</th>       <td>3988.870</td> <th>  Durbin-Watson:     </th>  <td>   1.998</td> \n",
       "</tr>\n",
       "<tr>\n",
       "  <th>Prob(Omnibus):</th>  <td> 0.000</td>  <th>  Jarque-Bera (JB):  </th> <td>228485.433</td>\n",
       "</tr>\n",
       "<tr>\n",
       "  <th>Skew:</th>           <td> 2.542</td>  <th>  Prob(JB):          </th>  <td>    0.00</td> \n",
       "</tr>\n",
       "<tr>\n",
       "  <th>Kurtosis:</th>       <td>32.901</td>  <th>  Cond. No.          </th>  <td>3.95e+04</td> \n",
       "</tr>\n",
       "</table><br/><br/>Notes:<br/>[1] Standard Errors assume that the covariance matrix of the errors is correctly specified.<br/>[2] The condition number is large, 3.95e+04. This might indicate that there are<br/>strong multicollinearity or other numerical problems."
      ],
      "text/plain": [
       "<class 'statsmodels.iolib.summary.Summary'>\n",
       "\"\"\"\n",
       "                            OLS Regression Results                            \n",
       "==============================================================================\n",
       "Dep. Variable:                y_train   R-squared:                       0.594\n",
       "Model:                            OLS   Adj. R-squared:                  0.594\n",
       "Method:                 Least Squares   F-statistic:                     2177.\n",
       "Date:                Thu, 23 Jun 2022   Prob (F-statistic):               0.00\n",
       "Time:                        05:58:07   Log-Likelihood:                -81923.\n",
       "No. Observations:                5961   AIC:                         1.639e+05\n",
       "Df Residuals:                    5956   BIC:                         1.639e+05\n",
       "Df Model:                           4                                         \n",
       "Covariance Type:            nonrobust                                         \n",
       "===============================================================================\n",
       "                  coef    std err          t      P>|t|      [0.025      0.975]\n",
       "-------------------------------------------------------------------------------\n",
       "Intercept   -2.017e+05   1.02e+04    -19.762      0.000   -2.22e+05   -1.82e+05\n",
       "sqft          249.3761      4.754     52.459      0.000     240.057     258.695\n",
       "sqft_lot       -3.1389      0.768     -4.088      0.000      -4.644      -1.634\n",
       "sqft_15       214.7899      7.767     27.654      0.000     199.564     230.016\n",
       "sqft_15_lot    -8.2859      0.927     -8.935      0.000     -10.104      -6.468\n",
       "==============================================================================\n",
       "Omnibus:                     3988.870   Durbin-Watson:                   1.998\n",
       "Prob(Omnibus):                  0.000   Jarque-Bera (JB):           228485.433\n",
       "Skew:                           2.542   Prob(JB):                         0.00\n",
       "Kurtosis:                      32.901   Cond. No.                     3.95e+04\n",
       "==============================================================================\n",
       "\n",
       "Notes:\n",
       "[1] Standard Errors assume that the covariance matrix of the errors is correctly specified.\n",
       "[2] The condition number is large, 3.95e+04. This might indicate that there are\n",
       "strong multicollinearity or other numerical problems.\n",
       "\"\"\""
      ]
     },
     "execution_count": 43,
     "metadata": {},
     "output_type": "execute_result"
    }
   ],
   "source": [
    "multi_summ"
   ]
  },
  {
   "cell_type": "code",
   "execution_count": 60,
   "metadata": {},
   "outputs": [
    {
     "data": {
      "text/plain": [
       "RFECV(cv=ShuffleSplit(n_splits=3, random_state=8, test_size=0.25, train_size=None),\n",
       "      estimator=LinearRegression())"
      ]
     },
     "execution_count": 60,
     "metadata": {},
     "output_type": "execute_result"
    }
   ],
   "source": [
    "from sklearn.model_selection import cross_validate, ShuffleSplit\n",
    "from sklearn.feature_selection import RFECV\n",
    "from sklearn.preprocessing import StandardScaler\n",
    "sqft_model_df = df_seattle2[['sqft_living','sqft_lot','sqft_living15','sqft_lot15']]\n",
    "splitter = ShuffleSplit(n_splits=3, test_size=0.25, random_state=8)\n",
    "sqft_model = LinearRegression()\n",
    "sqft_model_scores = cross_validate(\n",
    "    estimator=sqft_model,\n",
    "    X=sqft_model_df,\n",
    "    y=y_train,\n",
    "    return_train_score=True,\n",
    "    cv=splitter\n",
    ")\n",
    "\n",
    "model_for_RFECV = LinearRegression()\n",
    "\n",
    "multi_sqft = RFECV(model_for_RFECV, cv=splitter)\n",
    "multi_sqft.fit(sqft_model_df, y_train)"
   ]
  },
  {
   "cell_type": "code",
   "execution_count": 61,
   "metadata": {
    "scrolled": true
   },
   "outputs": [
    {
     "name": "stdout",
     "output_type": "stream",
     "text": [
      "Was the column selected?\n",
      "sqft_living: True\n",
      "sqft_lot: True\n",
      "sqft_living15: True\n",
      "sqft_lot15: True\n"
     ]
    }
   ],
   "source": [
    "print(\"Was the column selected?\")\n",
    "for index, col in enumerate(sqft_model_df.columns):\n",
    "    print(f\"{col}: {multi_sqft.support_[index]}\")"
   ]
  },
  {
   "cell_type": "code",
   "execution_count": 63,
   "metadata": {},
   "outputs": [
    {
     "data": {
      "text/plain": [
       "0.5519680033149392"
      ]
     },
     "execution_count": 63,
     "metadata": {},
     "output_type": "execute_result"
    }
   ],
   "source": [
    "X_test_final = X_test[['sqft_living','sqft_lot','sqft_living15','sqft_lot15']]\n",
    "\n",
    "multi_sqft.score(X_test_final, y_test)"
   ]
  },
  {
   "cell_type": "code",
   "execution_count": null,
   "metadata": {},
   "outputs": [],
   "source": []
  },
  {
   "cell_type": "code",
   "execution_count": 68,
   "metadata": {},
   "outputs": [
    {
     "data": {
      "text/plain": [
       "217929.0288114516"
      ]
     },
     "execution_count": 68,
     "metadata": {},
     "output_type": "execute_result"
    }
   ],
   "source": [
    "# calculate RMSE\n",
    "from sklearn.metrics import mean_squared_error\n",
    "\n",
    "mean_squared_error(y_test, multi_sqft.predict(X_test_final), squared=False)"
   ]
  },
  {
   "cell_type": "code",
   "execution_count": 91,
   "metadata": {},
   "outputs": [],
   "source": [
    "def currency(x, pos):\n",
    "    \"\"\"The two args are the value and tick position\"\"\"\n",
    "    if x >= 1e6:\n",
    "        s = '${:1.1f}M'.format(x*1e-6)\n",
    "    else:\n",
    "        s = '${:1.0f}K'.format(x*1e-3)\n",
    "    return s"
   ]
  },
  {
   "cell_type": "code",
   "execution_count": 92,
   "metadata": {},
   "outputs": [
    {
     "data": {
      "image/png": "[encoded data removed]",
      "text/plain": [
       "<Figure size 720x720 with 1 Axes>"
      ]
     },
     "metadata": {},
     "output_type": "display_data"
    }
   ],
   "source": [
    "preds = multi_sqft.predict(X_test_final)\n",
    "fig, ax = plt.subplots()\n",
    "\n",
    "perfect_line = np.arange(y_test.min(), y_test.max())\n",
    "ax.plot(perfect_line, linestyle=\"--\", color=\"red\", label=\"Best Fit Line\")\n",
    "ax.scatter(y_test, preds, alpha=0.5)\n",
    "ax.ticklabel_format(style='plain')\n",
    "ax.xaxis.set_major_formatter(currency)\n",
    "ax.yaxis.set_major_formatter(currency)\n",
    "ax.set_xlabel(\"Actual Price\")\n",
    "ax.set_ylabel(\"Predicted Price\")\n",
    "ax.set_title(\"The Actual House Price Vs. Predicted Price\")\n",
    "ax.legend();\n",
    "plt.savefig('The Actual House Price Vs. Predicted Price.png', dpi=400)"
   ]
  },
  {
   "cell_type": "code",
   "execution_count": 73,
   "metadata": {},
   "outputs": [
    {
     "data": {
      "text/plain": [
       "array([ 281546.03149763,  170689.68025077, 1201782.66823451, ...,\n",
       "       1063408.36537755,  427989.3325566 ,  413775.31901127])"
      ]
     },
     "execution_count": 73,
     "metadata": {},
     "output_type": "execute_result"
    }
   ],
   "source": [
    "preds"
   ]
  },
  {
   "cell_type": "code",
   "execution_count": null,
   "metadata": {},
   "outputs": [],
   "source": []
  }
 ],
 "metadata": {
  "kernelspec": {
   "display_name": "Python 3",
   "language": "python",
   "name": "python3"
  },
  "language_info": {
   "codemirror_mode": {
    "name": "ipython",
    "version": 3
   },
   "file_extension": ".py",
   "mimetype": "text/x-python",
   "name": "python",
   "nbconvert_exporter": "python",
   "pygments_lexer": "ipython3",
   "version": "3.8.5"
  }
 },
 "nbformat": 4,
 "nbformat_minor": 2
}
